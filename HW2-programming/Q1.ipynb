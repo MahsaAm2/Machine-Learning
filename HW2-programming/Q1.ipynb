{
 "cells": [
  {
   "cell_type": "code",
   "execution_count": 1,
   "id": "923a6a9c",
   "metadata": {},
   "outputs": [],
   "source": [
    "import numpy as np\n",
    "import pandas as pd\n",
    "import matplotlib.pyplot as plt\n",
    "import chart_studio.plotly as pl\n",
    "import plotly.offline as po\n",
    "import cufflinks as cf\n",
    "import seaborn as sns\n",
    "import datetime as dt\n",
    "from sklearn.metrics import f1_score\n",
    "from sklearn.model_selection import KFold\n",
    "from sklearn.model_selection import LeaveOneOut \n",
    "from sklearn.metrics import r2_score\n",
    "%matplotlib inline"
   ]
  },
  {
   "cell_type": "code",
   "execution_count": 2,
   "id": "7814bc77",
   "metadata": {},
   "outputs": [],
   "source": [
    "bmdTrain=pd.read_csv('BigMart_Dataset_Trainset.csv')"
   ]
  },
  {
   "cell_type": "code",
   "execution_count": 3,
   "id": "27c0a28e",
   "metadata": {},
   "outputs": [
    {
     "name": "stdout",
     "output_type": "stream",
     "text": [
      "The shape of datafarame is: (8523, 12)\n"
     ]
    }
   ],
   "source": [
    "print('The shape of datafarame is:',bmdTrain.shape)"
   ]
  },
  {
   "cell_type": "code",
   "execution_count": 4,
   "id": "5c217618",
   "metadata": {},
   "outputs": [
    {
     "data": {
      "text/html": [
       "<div>\n",
       "<style scoped>\n",
       "    .dataframe tbody tr th:only-of-type {\n",
       "        vertical-align: middle;\n",
       "    }\n",
       "\n",
       "    .dataframe tbody tr th {\n",
       "        vertical-align: top;\n",
       "    }\n",
       "\n",
       "    .dataframe thead th {\n",
       "        text-align: right;\n",
       "    }\n",
       "</style>\n",
       "<table border=\"1\" class=\"dataframe\">\n",
       "  <thead>\n",
       "    <tr style=\"text-align: right;\">\n",
       "      <th></th>\n",
       "      <th>Item_Identifier</th>\n",
       "      <th>Item_Weight</th>\n",
       "      <th>Item_Fat_Content</th>\n",
       "      <th>Item_Visibility</th>\n",
       "      <th>Item_Type</th>\n",
       "      <th>Item_MRP</th>\n",
       "      <th>Outlet_Identifier</th>\n",
       "      <th>Outlet_Establishment_Year</th>\n",
       "      <th>Outlet_Size</th>\n",
       "      <th>Outlet_Location_Type</th>\n",
       "      <th>Outlet_Type</th>\n",
       "      <th>Item_Outlet_Sales</th>\n",
       "    </tr>\n",
       "  </thead>\n",
       "  <tbody>\n",
       "    <tr>\n",
       "      <th>0</th>\n",
       "      <td>FDA15</td>\n",
       "      <td>9.30</td>\n",
       "      <td>Low Fat</td>\n",
       "      <td>0.016047</td>\n",
       "      <td>Dairy</td>\n",
       "      <td>249.8092</td>\n",
       "      <td>OUT049</td>\n",
       "      <td>1999</td>\n",
       "      <td>Medium</td>\n",
       "      <td>Tier 1</td>\n",
       "      <td>Supermarket Type1</td>\n",
       "      <td>3735.1380</td>\n",
       "    </tr>\n",
       "    <tr>\n",
       "      <th>1</th>\n",
       "      <td>DRC01</td>\n",
       "      <td>5.92</td>\n",
       "      <td>Regular</td>\n",
       "      <td>0.019278</td>\n",
       "      <td>Soft Drinks</td>\n",
       "      <td>48.2692</td>\n",
       "      <td>OUT018</td>\n",
       "      <td>2009</td>\n",
       "      <td>Medium</td>\n",
       "      <td>Tier 3</td>\n",
       "      <td>Supermarket Type2</td>\n",
       "      <td>443.4228</td>\n",
       "    </tr>\n",
       "    <tr>\n",
       "      <th>2</th>\n",
       "      <td>FDN15</td>\n",
       "      <td>17.50</td>\n",
       "      <td>Low Fat</td>\n",
       "      <td>0.016760</td>\n",
       "      <td>Meat</td>\n",
       "      <td>141.6180</td>\n",
       "      <td>OUT049</td>\n",
       "      <td>1999</td>\n",
       "      <td>Medium</td>\n",
       "      <td>Tier 1</td>\n",
       "      <td>Supermarket Type1</td>\n",
       "      <td>2097.2700</td>\n",
       "    </tr>\n",
       "    <tr>\n",
       "      <th>3</th>\n",
       "      <td>FDX07</td>\n",
       "      <td>19.20</td>\n",
       "      <td>Regular</td>\n",
       "      <td>0.000000</td>\n",
       "      <td>Fruits and Vegetables</td>\n",
       "      <td>182.0950</td>\n",
       "      <td>OUT010</td>\n",
       "      <td>1998</td>\n",
       "      <td>NaN</td>\n",
       "      <td>Tier 3</td>\n",
       "      <td>Grocery Store</td>\n",
       "      <td>732.3800</td>\n",
       "    </tr>\n",
       "    <tr>\n",
       "      <th>4</th>\n",
       "      <td>NCD19</td>\n",
       "      <td>8.93</td>\n",
       "      <td>Low Fat</td>\n",
       "      <td>0.000000</td>\n",
       "      <td>Household</td>\n",
       "      <td>53.8614</td>\n",
       "      <td>OUT013</td>\n",
       "      <td>1987</td>\n",
       "      <td>High</td>\n",
       "      <td>Tier 3</td>\n",
       "      <td>Supermarket Type1</td>\n",
       "      <td>994.7052</td>\n",
       "    </tr>\n",
       "  </tbody>\n",
       "</table>\n",
       "</div>"
      ],
      "text/plain": [
       "  Item_Identifier  Item_Weight Item_Fat_Content  Item_Visibility  \\\n",
       "0           FDA15         9.30          Low Fat         0.016047   \n",
       "1           DRC01         5.92          Regular         0.019278   \n",
       "2           FDN15        17.50          Low Fat         0.016760   \n",
       "3           FDX07        19.20          Regular         0.000000   \n",
       "4           NCD19         8.93          Low Fat         0.000000   \n",
       "\n",
       "               Item_Type  Item_MRP Outlet_Identifier  \\\n",
       "0                  Dairy  249.8092            OUT049   \n",
       "1            Soft Drinks   48.2692            OUT018   \n",
       "2                   Meat  141.6180            OUT049   \n",
       "3  Fruits and Vegetables  182.0950            OUT010   \n",
       "4              Household   53.8614            OUT013   \n",
       "\n",
       "   Outlet_Establishment_Year Outlet_Size Outlet_Location_Type  \\\n",
       "0                       1999      Medium               Tier 1   \n",
       "1                       2009      Medium               Tier 3   \n",
       "2                       1999      Medium               Tier 1   \n",
       "3                       1998         NaN               Tier 3   \n",
       "4                       1987        High               Tier 3   \n",
       "\n",
       "         Outlet_Type  Item_Outlet_Sales  \n",
       "0  Supermarket Type1          3735.1380  \n",
       "1  Supermarket Type2           443.4228  \n",
       "2  Supermarket Type1          2097.2700  \n",
       "3      Grocery Store           732.3800  \n",
       "4  Supermarket Type1           994.7052  "
      ]
     },
     "execution_count": 4,
     "metadata": {},
     "output_type": "execute_result"
    }
   ],
   "source": [
    "bmdTrain.head()"
   ]
  },
  {
   "cell_type": "markdown",
   "id": "11f31e16",
   "metadata": {},
   "source": [
    "## الف"
   ]
  },
  {
   "cell_type": "markdown",
   "id": "f80c76a0",
   "metadata": {},
   "source": [
    "### مدیریت داده های از دست رفته"
   ]
  },
  {
   "cell_type": "code",
   "execution_count": 5,
   "id": "eb52b267",
   "metadata": {},
   "outputs": [
    {
     "name": "stdout",
     "output_type": "stream",
     "text": [
      "<class 'pandas.core.frame.DataFrame'>\n",
      "RangeIndex: 8523 entries, 0 to 8522\n",
      "Data columns (total 12 columns):\n",
      " #   Column                     Non-Null Count  Dtype  \n",
      "---  ------                     --------------  -----  \n",
      " 0   Item_Identifier            8523 non-null   object \n",
      " 1   Item_Weight                7060 non-null   float64\n",
      " 2   Item_Fat_Content           8523 non-null   object \n",
      " 3   Item_Visibility            8523 non-null   float64\n",
      " 4   Item_Type                  8523 non-null   object \n",
      " 5   Item_MRP                   8523 non-null   float64\n",
      " 6   Outlet_Identifier          8523 non-null   object \n",
      " 7   Outlet_Establishment_Year  8523 non-null   int64  \n",
      " 8   Outlet_Size                6113 non-null   object \n",
      " 9   Outlet_Location_Type       8523 non-null   object \n",
      " 10  Outlet_Type                8523 non-null   object \n",
      " 11  Item_Outlet_Sales          8523 non-null   float64\n",
      "dtypes: float64(4), int64(1), object(7)\n",
      "memory usage: 799.2+ KB\n"
     ]
    }
   ],
   "source": [
    "bmdTrain.info()"
   ]
  },
  {
   "cell_type": "markdown",
   "id": "495c7cdd",
   "metadata": {},
   "source": [
    "### همان طور که میبینیم تعداد آیتم وزن از 8523 کمتر است و 7060 تا است و به این معنا است که تعدادی از آن ها مقدار ندارند"
   ]
  },
  {
   "cell_type": "markdown",
   "id": "f7ef38d7",
   "metadata": {},
   "source": [
    "### و همچنین تعداد سایز هم 6113 تا است در حالی که باید 8523 تا باشد"
   ]
  },
  {
   "cell_type": "code",
   "execution_count": 6,
   "id": "10485809",
   "metadata": {},
   "outputs": [
    {
     "name": "stdout",
     "output_type": "stream",
     "text": [
      "Outlet_Size                  2410\n",
      "Item_Weight                  1463\n",
      "Item_Identifier                 0\n",
      "Item_Fat_Content                0\n",
      "Item_Visibility                 0\n",
      "Item_Type                       0\n",
      "Item_MRP                        0\n",
      "Outlet_Identifier               0\n",
      "Outlet_Establishment_Year       0\n",
      "Outlet_Location_Type            0\n",
      "Outlet_Type                     0\n",
      "Item_Outlet_Sales               0\n",
      "dtype: int64 \n",
      "\n",
      " Item_Identifier               0.000000\n",
      "Item_Weight                  17.165317\n",
      "Item_Fat_Content              0.000000\n",
      "Item_Visibility               0.000000\n",
      "Item_Type                     0.000000\n",
      "Item_MRP                      0.000000\n",
      "Outlet_Identifier             0.000000\n",
      "Outlet_Establishment_Year     0.000000\n",
      "Outlet_Size                  28.276428\n",
      "Outlet_Location_Type          0.000000\n",
      "Outlet_Type                   0.000000\n",
      "Item_Outlet_Sales             0.000000\n",
      "dtype: float64 \n",
      "\n",
      "\n"
     ]
    }
   ],
   "source": [
    "print(bmdTrain.isnull().sum().sort_values(ascending=False),\"\\n\\n\",bmdTrain.isnull().sum()/bmdTrain.shape[0] *100,\"\\n\\n\")"
   ]
  },
  {
   "cell_type": "markdown",
   "id": "084b3890",
   "metadata": {},
   "source": [
    "### در بالا نیز تعداد و درصد را از هر کدام از ویژگی هایی که مقدار نامشخص وجود دارند را چاپ کرده ایم"
   ]
  },
  {
   "cell_type": "markdown",
   "id": "946dacc5",
   "metadata": {},
   "source": [
    "### همان طور که مشاهده کردیم برای سایز تعدادی مقدار نامشخص داریم میتوانیم به جای این مقدار نامشخص سایزی که بیشترین تکرار را دارد در نظر بگیریم که همان مد سایز است "
   ]
  },
  {
   "cell_type": "code",
   "execution_count": 7,
   "id": "95f2a75f",
   "metadata": {},
   "outputs": [
    {
     "name": "stdout",
     "output_type": "stream",
     "text": [
      "train mode\n",
      " ['Medium']\n"
     ]
    }
   ],
   "source": [
    "print(\"train mode\\n\",[bmdTrain['Outlet_Size'].mode().values[0]])"
   ]
  },
  {
   "cell_type": "markdown",
   "id": "2c832f39",
   "metadata": {},
   "source": [
    "### بیشترین میزان تکرار برای مدیوم است پس آن را به مقادیری که نداریم اختصاص میدهیم"
   ]
  },
  {
   "cell_type": "code",
   "execution_count": 8,
   "id": "88ceb9d0",
   "metadata": {},
   "outputs": [],
   "source": [
    "bmdTrain['Outlet_Size'] = bmdTrain['Outlet_Size'].fillna(bmdTrain['Outlet_Size'].dropna().mode().values[0])"
   ]
  },
  {
   "cell_type": "markdown",
   "id": "b70b2805",
   "metadata": {},
   "source": [
    "### برای مقادیر نامشخص وزن مقدار میانگین کل وزن ها را قرار میدهیم"
   ]
  },
  {
   "cell_type": "code",
   "execution_count": 9,
   "id": "08e32fc4",
   "metadata": {},
   "outputs": [],
   "source": [
    "bmdTrain['Item_Weight'] = bmdTrain['Item_Weight'].fillna(bmdTrain['Item_Weight'].dropna().mean())"
   ]
  },
  {
   "cell_type": "markdown",
   "id": "9bae6369",
   "metadata": {},
   "source": [
    "### در نهایت یکبار دیگر تعداد داده هایی که مقدار نامشخص دارند را برای هر ویژگی چاپ میکنیم"
   ]
  },
  {
   "cell_type": "code",
   "execution_count": 10,
   "id": "ce3e740c",
   "metadata": {},
   "outputs": [
    {
     "name": "stdout",
     "output_type": "stream",
     "text": [
      "Item_Identifier              0\n",
      "Item_Weight                  0\n",
      "Item_Fat_Content             0\n",
      "Item_Visibility              0\n",
      "Item_Type                    0\n",
      "Item_MRP                     0\n",
      "Outlet_Identifier            0\n",
      "Outlet_Establishment_Year    0\n",
      "Outlet_Size                  0\n",
      "Outlet_Location_Type         0\n",
      "Outlet_Type                  0\n",
      "Item_Outlet_Sales            0\n",
      "dtype: int64\n"
     ]
    }
   ],
   "source": [
    "print(bmdTrain.isnull().sum().sort_values(ascending=False))"
   ]
  },
  {
   "cell_type": "markdown",
   "id": "72388c4b",
   "metadata": {},
   "source": [
    "### دیگر مقدار نامشخص در داده ها وجود ندارد"
   ]
  },
  {
   "cell_type": "markdown",
   "id": "823b6e61",
   "metadata": {},
   "source": [
    "### تبدیل داده های دسته بندی به داده های عددی مناسب"
   ]
  },
  {
   "cell_type": "code",
   "execution_count": 11,
   "id": "e9033c5d",
   "metadata": {},
   "outputs": [
    {
     "data": {
      "text/plain": [
       "[Low Fat    5089\n",
       " Regular    2889\n",
       " LF          316\n",
       " reg         117\n",
       " low fat     112\n",
       " Name: Item_Fat_Content, dtype: int64,\n",
       " Fruits and Vegetables    1232\n",
       " Snack Foods              1200\n",
       " Household                 910\n",
       " Frozen Foods              856\n",
       " Dairy                     682\n",
       " Canned                    649\n",
       " Baking Goods              648\n",
       " Health and Hygiene        520\n",
       " Soft Drinks               445\n",
       " Meat                      425\n",
       " Breads                    251\n",
       " Hard Drinks               214\n",
       " Others                    169\n",
       " Starchy Foods             148\n",
       " Breakfast                 110\n",
       " Seafood                    64\n",
       " Name: Item_Type, dtype: int64,\n",
       " OUT027    935\n",
       " OUT013    932\n",
       " OUT049    930\n",
       " OUT046    930\n",
       " OUT035    930\n",
       " OUT045    929\n",
       " OUT018    928\n",
       " OUT017    926\n",
       " OUT010    555\n",
       " OUT019    528\n",
       " Name: Outlet_Identifier, dtype: int64,\n",
       " Medium    5203\n",
       " Small     2388\n",
       " High       932\n",
       " Name: Outlet_Size, dtype: int64,\n",
       " Tier 3    3350\n",
       " Tier 2    2785\n",
       " Tier 1    2388\n",
       " Name: Outlet_Location_Type, dtype: int64,\n",
       " Supermarket Type1    5577\n",
       " Grocery Store        1083\n",
       " Supermarket Type3     935\n",
       " Supermarket Type2     928\n",
       " Name: Outlet_Type, dtype: int64]"
      ]
     },
     "execution_count": 11,
     "metadata": {},
     "output_type": "execute_result"
    }
   ],
   "source": [
    "cat = bmdTrain.select_dtypes('object').columns.to_list()\n",
    "BM_cat = bmdTrain[cat]\n",
    "[bmdTrain[category].value_counts() for category in cat[1:]]"
   ]
  },
  {
   "cell_type": "markdown",
   "id": "d6917e39",
   "metadata": {},
   "source": [
    "### Low Fat = LF"
   ]
  },
  {
   "cell_type": "markdown",
   "id": "43615e16",
   "metadata": {},
   "source": [
    "### Regular = reg"
   ]
  },
  {
   "cell_type": "markdown",
   "id": "efe83545",
   "metadata": {},
   "source": [
    "### پس باید یک اسم را به آن ها اختصاص داده و در  واقع آن ها را یکی کنیم"
   ]
  },
  {
   "cell_type": "code",
   "execution_count": 12,
   "id": "94adfdd0",
   "metadata": {},
   "outputs": [
    {
     "data": {
      "text/plain": [
       "Low Fat    5517\n",
       "Regular    3006\n",
       "Name: Item_Fat_Content, dtype: int64"
      ]
     },
     "execution_count": 12,
     "metadata": {},
     "output_type": "execute_result"
    }
   ],
   "source": [
    "bmdTrain['Item_Fat_Content'].replace(['LF', 'low fat', 'reg'], ['Low Fat','Low Fat','Regular'],inplace = True)\n",
    "bmdTrain.Item_Fat_Content.value_counts()"
   ]
  },
  {
   "cell_type": "code",
   "execution_count": 13,
   "id": "919891c3",
   "metadata": {},
   "outputs": [],
   "source": [
    "from sklearn.preprocessing import LabelEncoder\n",
    "le = LabelEncoder()\n",
    "bmdTrain['Outlet'] = le.fit_transform(bmdTrain['Outlet_Identifier'])\n",
    "var_mod = ['Item_Fat_Content', 'Item_Type', 'Outlet_Location_Type',\n",
    "           'Outlet_Size', 'Outlet_Type']\n",
    "\n",
    "le = LabelEncoder()\n",
    "for i in var_mod:\n",
    "    bmdTrain[i] = le.fit_transform(bmdTrain[i])"
   ]
  },
  {
   "cell_type": "markdown",
   "id": "8400af9d",
   "metadata": {},
   "source": [
    "### همه ی داده های دسته بندی را به داده های عددی تبدیل کردیم و فقط آی دی ها عددی نیستند"
   ]
  },
  {
   "cell_type": "code",
   "execution_count": 14,
   "id": "aded3811",
   "metadata": {},
   "outputs": [
    {
     "name": "stdout",
     "output_type": "stream",
     "text": [
      "<class 'pandas.core.frame.DataFrame'>\n",
      "RangeIndex: 8523 entries, 0 to 8522\n",
      "Data columns (total 13 columns):\n",
      " #   Column                     Non-Null Count  Dtype  \n",
      "---  ------                     --------------  -----  \n",
      " 0   Item_Identifier            8523 non-null   object \n",
      " 1   Item_Weight                8523 non-null   float64\n",
      " 2   Item_Fat_Content           8523 non-null   int32  \n",
      " 3   Item_Visibility            8523 non-null   float64\n",
      " 4   Item_Type                  8523 non-null   int32  \n",
      " 5   Item_MRP                   8523 non-null   float64\n",
      " 6   Outlet_Identifier          8523 non-null   object \n",
      " 7   Outlet_Establishment_Year  8523 non-null   int64  \n",
      " 8   Outlet_Size                8523 non-null   int32  \n",
      " 9   Outlet_Location_Type       8523 non-null   int32  \n",
      " 10  Outlet_Type                8523 non-null   int32  \n",
      " 11  Item_Outlet_Sales          8523 non-null   float64\n",
      " 12  Outlet                     8523 non-null   int32  \n",
      "dtypes: float64(4), int32(6), int64(1), object(2)\n",
      "memory usage: 666.0+ KB\n"
     ]
    }
   ],
   "source": [
    "bmdTrain.info()"
   ]
  },
  {
   "cell_type": "markdown",
   "id": "94de93ad",
   "metadata": {},
   "source": [
    "### در این دیتاست ما سال تاسیس را داریم که بهتر است آن را به مدت زمانی که تاسیس شده است تغییر دهیم تا کاربردی تر شود"
   ]
  },
  {
   "cell_type": "code",
   "execution_count": 15,
   "id": "b7ba41ea",
   "metadata": {},
   "outputs": [
    {
     "data": {
      "text/plain": [
       "0    23\n",
       "1    13\n",
       "2    23\n",
       "3    24\n",
       "4    35\n",
       "Name: Outlet_Age, dtype: int64"
      ]
     },
     "execution_count": 15,
     "metadata": {},
     "output_type": "execute_result"
    }
   ],
   "source": [
    "bmdTrain['Outlet_Age'] = 2022 - bmdTrain['Outlet_Establishment_Year']\n",
    "bmdTrain['Outlet_Age'].head(5)"
   ]
  },
  {
   "cell_type": "markdown",
   "id": "6af94d33",
   "metadata": {},
   "source": [
    "### حال سال تاسیس را حذف میکنیم"
   ]
  },
  {
   "cell_type": "code",
   "execution_count": 16,
   "id": "c34ffaa7",
   "metadata": {},
   "outputs": [],
   "source": [
    "bmdTrain.drop(['Outlet_Establishment_Year'],axis=1,inplace=True)"
   ]
  },
  {
   "cell_type": "markdown",
   "id": "512f63c1",
   "metadata": {},
   "source": [
    "### Item_Visibility"
   ]
  },
  {
   "cell_type": "markdown",
   "id": "ccaa77e0",
   "metadata": {},
   "source": [
    "### کمترین مقدار این ویژگی صفر است که چون محصول فروش رفته صفر بودن این آیتم بی معنا است پس میانگین همه ی آن ها را جایگزین آن هایی که مقدار صفر دارند میکنیم"
   ]
  },
  {
   "cell_type": "code",
   "execution_count": 17,
   "id": "2df33034",
   "metadata": {},
   "outputs": [
    {
     "name": "stdout",
     "output_type": "stream",
     "text": [
      "Number of 0 values initially: 526\n"
     ]
    }
   ],
   "source": [
    "visibility_avg = bmdTrain.pivot_table(values='Item_Visibility', index='Item_Identifier')\n",
    "missing_values = (bmdTrain['Item_Visibility'] == 0)\n",
    "print ('Number of 0 values initially: %d'%sum(missing_values))"
   ]
  },
  {
   "cell_type": "code",
   "execution_count": 18,
   "id": "3220b234",
   "metadata": {},
   "outputs": [
    {
     "name": "stdout",
     "output_type": "stream",
     "text": [
      "Number of 0 values after modification: 0\n"
     ]
    }
   ],
   "source": [
    "bmdTrain.loc[missing_values,'Item_Visibility'] = bmdTrain.loc[missing_values,'Item_Identifier'].apply(lambda x: visibility_avg.at[x, 'Item_Visibility'])\n",
    "print ('Number of 0 values after modification: %d'%sum(bmdTrain['Item_Visibility'] == 0))"
   ]
  },
  {
   "cell_type": "markdown",
   "id": "9b481700",
   "metadata": {},
   "source": [
    "## قسمت ب"
   ]
  },
  {
   "cell_type": "markdown",
   "id": "fb55e70d",
   "metadata": {},
   "source": [
    "### ماتریس همبستگی"
   ]
  },
  {
   "cell_type": "code",
   "execution_count": 19,
   "id": "6667ff08",
   "metadata": {},
   "outputs": [
    {
     "name": "stderr",
     "output_type": "stream",
     "text": [
      "C:\\Users\\Asus\\AppData\\Local\\Temp/ipykernel_2320/1093584535.py:1: FutureWarning:\n",
      "\n",
      "The default value of numeric_only in DataFrame.corr is deprecated. In a future version, it will default to False. Select only valid columns or specify the value of numeric_only to silence this warning.\n",
      "\n"
     ]
    },
    {
     "data": {
      "text/plain": [
       "<AxesSubplot:>"
      ]
     },
     "execution_count": 19,
     "metadata": {},
     "output_type": "execute_result"
    },
    {
     "data": {
      "image/png": "[encoded data removed]",
      "text/plain": [
       "<Figure size 432x288 with 2 Axes>"
      ]
     },
     "metadata": {
      "needs_background": "light"
     },
     "output_type": "display_data"
    }
   ],
   "source": [
    "sns.heatmap(bmdTrain.corr() ,cmap='rocket')"
   ]
  },
  {
   "cell_type": "markdown",
   "id": "5d306268",
   "metadata": {},
   "source": [
    "## قسمت ج"
   ]
  },
  {
   "cell_type": "code",
   "execution_count": 20,
   "id": "3a513e93",
   "metadata": {},
   "outputs": [
    {
     "data": {
      "text/plain": [
       "Text(0.5, 1.0, 'Item_Outlet_Sales Distribution')"
      ]
     },
     "execution_count": 20,
     "metadata": {},
     "output_type": "execute_result"
    },
    {
     "data": {
      "image/png": "[encoded data removed]",
      "text/plain": [
       "<Figure size 864x504 with 1 Axes>"
      ]
     },
     "metadata": {
      "needs_background": "light"
     },
     "output_type": "display_data"
    }
   ],
   "source": [
    "plt.figure(figsize=(12,7))\n",
    "sns.histplot(bmdTrain.Item_Outlet_Sales, bins = 25)\n",
    "plt.xlabel(\"Item_Outlet_Sales\")\n",
    "plt.ylabel(\"Number of Sales\")\n",
    "plt.title(\"Item_Outlet_Sales Distribution\")"
   ]
  },
  {
   "cell_type": "code",
   "execution_count": 21,
   "id": "bf49739d",
   "metadata": {},
   "outputs": [
    {
     "name": "stdout",
     "output_type": "stream",
     "text": [
      "Skew is: 1.1775306028542796\n",
      "Kurtosis: 1.615877\n"
     ]
    }
   ],
   "source": [
    "print (\"Skew is:\", bmdTrain.Item_Outlet_Sales.skew())\n",
    "print(\"Kurtosis: %f\" % bmdTrain.Item_Outlet_Sales.kurt())"
   ]
  },
  {
   "cell_type": "code",
   "execution_count": 22,
   "id": "bc9f6e81",
   "metadata": {},
   "outputs": [
    {
     "data": {
      "image/png": "[encoded data removed]",
      "text/plain": [
       "<Figure size 432x288 with 1 Axes>"
      ]
     },
     "metadata": {
      "needs_background": "light"
     },
     "output_type": "display_data"
    }
   ],
   "source": [
    "plt.figure(figsize=(6,4))\n",
    "sns.countplot(x='Item_Fat_Content' , data=bmdTrain ,palette='twilight_shifted')\n",
    "plt.xlabel('Item_Fat_Content', fontsize=14)\n",
    "plt.show()"
   ]
  },
  {
   "cell_type": "code",
   "execution_count": 23,
   "id": "d2421212",
   "metadata": {},
   "outputs": [
    {
     "data": {
      "image/png": "[encoded data removed]",
      "text/plain": [
       "<Figure size 1944x720 with 1 Axes>"
      ]
     },
     "metadata": {
      "needs_background": "light"
     },
     "output_type": "display_data"
    }
   ],
   "source": [
    "plt.figure(figsize=(27,10))\n",
    "sns.countplot(x='Outlet_Type' , data=bmdTrain ,palette='twilight_shifted')\n",
    "plt.xlabel('Item_Type', fontsize=14)\n",
    "plt.show()"
   ]
  },
  {
   "cell_type": "code",
   "execution_count": 24,
   "id": "0be0eb87",
   "metadata": {},
   "outputs": [
    {
     "data": {
      "image/png": "[encoded data removed]",
      "text/plain": [
       "<Figure size 1080x288 with 1 Axes>"
      ]
     },
     "metadata": {
      "needs_background": "light"
     },
     "output_type": "display_data"
    }
   ],
   "source": [
    "plt.figure(figsize=(15,4))\n",
    "sns.countplot(x='Outlet_Identifier' , data=bmdTrain ,palette='twilight_shifted')\n",
    "plt.xlabel('Outlet_Identifier', fontsize=14)\n",
    "plt.show()"
   ]
  },
  {
   "cell_type": "code",
   "execution_count": 25,
   "id": "99eed851",
   "metadata": {},
   "outputs": [
    {
     "data": {
      "image/png": "[encoded data removed]",
      "text/plain": [
       "<Figure size 720x288 with 1 Axes>"
      ]
     },
     "metadata": {
      "needs_background": "light"
     },
     "output_type": "display_data"
    }
   ],
   "source": [
    "plt.figure(figsize=(10,4))\n",
    "sns.countplot(x='Outlet_Size' , data=bmdTrain ,palette='twilight_shifted')\n",
    "plt.xlabel('Outlet_Size', fontsize=14)\n",
    "plt.show()"
   ]
  },
  {
   "cell_type": "code",
   "execution_count": 26,
   "id": "0ecf2b7b",
   "metadata": {},
   "outputs": [
    {
     "data": {
      "image/png": "[encoded data removed]",
      "text/plain": [
       "<Figure size 720x288 with 1 Axes>"
      ]
     },
     "metadata": {
      "needs_background": "light"
     },
     "output_type": "display_data"
    }
   ],
   "source": [
    "plt.figure(figsize=(10,4))\n",
    "sns.countplot(x='Outlet_Location_Type' , data=bmdTrain ,palette='twilight_shifted')\n",
    "plt.xlabel('Outlet_Location_Type', fontsize=14)\n",
    "plt.show()"
   ]
  },
  {
   "cell_type": "code",
   "execution_count": 27,
   "id": "49d8d3d4",
   "metadata": {},
   "outputs": [
    {
     "data": {
      "image/png": "[encoded data removed]",
      "text/plain": [
       "<Figure size 720x288 with 1 Axes>"
      ]
     },
     "metadata": {
      "needs_background": "light"
     },
     "output_type": "display_data"
    }
   ],
   "source": [
    "plt.figure(figsize=(10,4))\n",
    "sns.countplot(x='Outlet_Type' , data=bmdTrain ,palette='twilight_shifted')\n",
    "plt.xlabel('Outlet_Type', fontsize=14)\n",
    "plt.show()"
   ]
  },
  {
   "cell_type": "code",
   "execution_count": 28,
   "id": "a0b4b2af",
   "metadata": {},
   "outputs": [
    {
     "data": {
      "image/png": "[encoded data removed]",
      "text/plain": [
       "<Figure size 432x288 with 1 Axes>"
      ]
     },
     "metadata": {
      "needs_background": "light"
     },
     "output_type": "display_data"
    }
   ],
   "source": [
    "plt.hist(bmdTrain['Outlet_Age'])\n",
    "plt.title(\"Outlet_Age\")\n",
    "plt.show()"
   ]
  },
  {
   "cell_type": "code",
   "execution_count": 29,
   "id": "d4c84488",
   "metadata": {},
   "outputs": [
    {
     "data": {
      "text/plain": [
       "Text(0.5, 1.0, 'Item_Visibility')"
      ]
     },
     "execution_count": 29,
     "metadata": {},
     "output_type": "execute_result"
    },
    {
     "data": {
      "image/png": "[encoded data removed]",
      "text/plain": [
       "<Figure size 864x504 with 1 Axes>"
      ]
     },
     "metadata": {
      "needs_background": "light"
     },
     "output_type": "display_data"
    }
   ],
   "source": [
    "plt.figure(figsize=(12,7))\n",
    "sns.histplot(bmdTrain.Item_Visibility, bins = 25)\n",
    "plt.xlabel(\"Item_Visibility\")\n",
    "plt.ylabel(\"Count\")\n",
    "plt.title(\"Item_Visibility\")"
   ]
  },
  {
   "cell_type": "code",
   "execution_count": 30,
   "id": "a8a687e1",
   "metadata": {},
   "outputs": [
    {
     "data": {
      "text/plain": [
       "Text(0.5, 1.0, 'Item_Weight')"
      ]
     },
     "execution_count": 30,
     "metadata": {},
     "output_type": "execute_result"
    },
    {
     "data": {
      "image/png": "[encoded data removed]",
      "text/plain": [
       "<Figure size 864x504 with 1 Axes>"
      ]
     },
     "metadata": {
      "needs_background": "light"
     },
     "output_type": "display_data"
    }
   ],
   "source": [
    "plt.figure(figsize=(12,7))\n",
    "sns.histplot(bmdTrain.Item_Weight, bins = 25)\n",
    "plt.xlabel(\"Item_Weight\")\n",
    "plt.ylabel(\"Count\")\n",
    "plt.title(\"Item_Weight\")"
   ]
  },
  {
   "cell_type": "code",
   "execution_count": 31,
   "id": "0bce44b4",
   "metadata": {},
   "outputs": [
    {
     "data": {
      "text/plain": [
       "Text(0.5, 1.0, 'Item_MRP')"
      ]
     },
     "execution_count": 31,
     "metadata": {},
     "output_type": "execute_result"
    },
    {
     "data": {
      "image/png": "[encoded data removed]",
      "text/plain": [
       "<Figure size 864x504 with 1 Axes>"
      ]
     },
     "metadata": {
      "needs_background": "light"
     },
     "output_type": "display_data"
    }
   ],
   "source": [
    "plt.figure(figsize=(12,7))\n",
    "sns.histplot(bmdTrain.Item_MRP, bins = 25)\n",
    "plt.xlabel(\"Item_MRP\")\n",
    "plt.ylabel(\"Count\")\n",
    "plt.title(\"Item_MRP\")"
   ]
  },
  {
   "cell_type": "markdown",
   "id": "19e6d228",
   "metadata": {},
   "source": [
    "## قسمت د"
   ]
  },
  {
   "cell_type": "code",
   "execution_count": 32,
   "id": "c198173d",
   "metadata": {},
   "outputs": [
    {
     "data": {
      "image/png": "[encoded data removed]",
      "text/plain": [
       "<Figure size 432x288 with 1 Axes>"
      ]
     },
     "metadata": {
      "needs_background": "light"
     },
     "output_type": "display_data"
    }
   ],
   "source": [
    "plt.scatter(bmdTrain['Item_Weight'], bmdTrain['Item_Outlet_Sales'])\n",
    "plt.title('Item_Weight')\n",
    "plt.ylabel('Item_Outlet_Sales')\n",
    "plt.show()"
   ]
  },
  {
   "cell_type": "code",
   "execution_count": 33,
   "id": "c21960d0",
   "metadata": {},
   "outputs": [
    {
     "data": {
      "image/png": "[encoded data removed]",
      "text/plain": [
       "<Figure size 432x288 with 1 Axes>"
      ]
     },
     "metadata": {
      "needs_background": "light"
     },
     "output_type": "display_data"
    }
   ],
   "source": [
    "plt.scatter(bmdTrain['Item_Visibility'], bmdTrain['Item_Outlet_Sales'])\n",
    "plt.title('Item_Visibility')\n",
    "plt.ylabel('Item_Outlet_Sales')\n",
    "plt.show()"
   ]
  },
  {
   "cell_type": "code",
   "execution_count": 34,
   "id": "d02a3fd8",
   "metadata": {},
   "outputs": [
    {
     "data": {
      "image/png": "[encoded data removed]",
      "text/plain": [
       "<Figure size 432x288 with 1 Axes>"
      ]
     },
     "metadata": {
      "needs_background": "light"
     },
     "output_type": "display_data"
    }
   ],
   "source": [
    "plt.scatter(bmdTrain['Item_MRP'], bmdTrain['Item_Outlet_Sales'])\n",
    "plt.title('Item_MRP')\n",
    "plt.ylabel('Item_Outlet_Sales')\n",
    "plt.show()"
   ]
  },
  {
   "cell_type": "code",
   "execution_count": 35,
   "id": "99a42272",
   "metadata": {},
   "outputs": [
    {
     "data": {
      "image/png": "[encoded data removed]",
      "text/plain": [
       "<Figure size 432x288 with 1 Axes>"
      ]
     },
     "metadata": {
      "needs_background": "light"
     },
     "output_type": "display_data"
    }
   ],
   "source": [
    "plt.scatter(bmdTrain['Outlet_Age'], bmdTrain['Item_Outlet_Sales'])\n",
    "plt.title('Outlet_Age')\n",
    "plt.ylabel('Item_Outlet_Sales')\n",
    "plt.show()"
   ]
  },
  {
   "cell_type": "code",
   "execution_count": 36,
   "id": "0a1a7300",
   "metadata": {},
   "outputs": [
    {
     "name": "stderr",
     "output_type": "stream",
     "text": [
      "C:\\Users\\Asus\\anaconda3\\lib\\site-packages\\seaborn\\_decorators.py:36: FutureWarning:\n",
      "\n",
      "Pass the following variables as keyword args: x, y. From version 0.12, the only valid positional argument will be `data`, and passing other arguments without an explicit keyword will result in an error or misinterpretation.\n",
      "\n",
      "No handles with labels found to put in legend.\n"
     ]
    },
    {
     "data": {
      "image/png": "[encoded data removed]",
      "text/plain": [
       "<Figure size 1944x720 with 1 Axes>"
      ]
     },
     "metadata": {
      "needs_background": "light"
     },
     "output_type": "display_data"
    }
   ],
   "source": [
    "plt.figure(figsize=(27,10))\n",
    "sns.barplot('Outlet_Identifier' ,'Item_Outlet_Sales', data=bmdTrain ,palette='twilight_shifted')\n",
    "plt.xlabel('Outlet_Identifier', fontsize=14)\n",
    "plt.legend()\n",
    "plt.show()"
   ]
  },
  {
   "cell_type": "code",
   "execution_count": 37,
   "id": "00660643",
   "metadata": {},
   "outputs": [
    {
     "name": "stderr",
     "output_type": "stream",
     "text": [
      "C:\\Users\\Asus\\anaconda3\\lib\\site-packages\\seaborn\\_decorators.py:36: FutureWarning:\n",
      "\n",
      "Pass the following variables as keyword args: x, y. From version 0.12, the only valid positional argument will be `data`, and passing other arguments without an explicit keyword will result in an error or misinterpretation.\n",
      "\n",
      "No handles with labels found to put in legend.\n"
     ]
    },
    {
     "data": {
      "image/png": "[encoded data removed]",
      "text/plain": [
       "<Figure size 720x360 with 1 Axes>"
      ]
     },
     "metadata": {
      "needs_background": "light"
     },
     "output_type": "display_data"
    }
   ],
   "source": [
    "plt.figure(figsize=(10,5))\n",
    "sns.barplot('Outlet_Type' ,'Item_Outlet_Sales', data=bmdTrain ,palette='twilight_shifted')\n",
    "plt.xlabel('Outlet_Type', fontsize=14)\n",
    "plt.legend()\n",
    "plt.show()"
   ]
  },
  {
   "cell_type": "code",
   "execution_count": 38,
   "id": "2f7b899b",
   "metadata": {},
   "outputs": [
    {
     "name": "stderr",
     "output_type": "stream",
     "text": [
      "C:\\Users\\Asus\\anaconda3\\lib\\site-packages\\seaborn\\_decorators.py:36: FutureWarning:\n",
      "\n",
      "Pass the following variables as keyword args: x, y. From version 0.12, the only valid positional argument will be `data`, and passing other arguments without an explicit keyword will result in an error or misinterpretation.\n",
      "\n",
      "No handles with labels found to put in legend.\n"
     ]
    },
    {
     "data": {
      "image/png": "[encoded data removed]",
      "text/plain": [
       "<Figure size 720x360 with 1 Axes>"
      ]
     },
     "metadata": {
      "needs_background": "light"
     },
     "output_type": "display_data"
    }
   ],
   "source": [
    "plt.figure(figsize=(10,5))\n",
    "sns.barplot('Outlet_Size' ,'Item_Outlet_Sales', data=bmdTrain ,palette='twilight_shifted')\n",
    "plt.xlabel('Outlet_Size', fontsize=14)\n",
    "plt.legend()\n",
    "plt.show()"
   ]
  },
  {
   "cell_type": "code",
   "execution_count": 39,
   "id": "d61c8c6b",
   "metadata": {},
   "outputs": [
    {
     "name": "stderr",
     "output_type": "stream",
     "text": [
      "C:\\Users\\Asus\\anaconda3\\lib\\site-packages\\seaborn\\_decorators.py:36: FutureWarning:\n",
      "\n",
      "Pass the following variables as keyword args: x, y. From version 0.12, the only valid positional argument will be `data`, and passing other arguments without an explicit keyword will result in an error or misinterpretation.\n",
      "\n",
      "No handles with labels found to put in legend.\n"
     ]
    },
    {
     "data": {
      "image/png": "[encoded data removed]",
      "text/plain": [
       "<Figure size 720x360 with 1 Axes>"
      ]
     },
     "metadata": {
      "needs_background": "light"
     },
     "output_type": "display_data"
    }
   ],
   "source": [
    "plt.figure(figsize=(10,5))\n",
    "sns.barplot('Outlet_Location_Type' ,'Item_Outlet_Sales', data=bmdTrain ,palette='twilight_shifted')\n",
    "plt.xlabel('Outlet_Location_Type', fontsize=14)\n",
    "plt.legend()\n",
    "plt.show()"
   ]
  },
  {
   "cell_type": "code",
   "execution_count": 40,
   "id": "5a4a0440",
   "metadata": {},
   "outputs": [
    {
     "name": "stderr",
     "output_type": "stream",
     "text": [
      "C:\\Users\\Asus\\anaconda3\\lib\\site-packages\\seaborn\\_decorators.py:36: FutureWarning:\n",
      "\n",
      "Pass the following variables as keyword args: x, y. From version 0.12, the only valid positional argument will be `data`, and passing other arguments without an explicit keyword will result in an error or misinterpretation.\n",
      "\n",
      "No handles with labels found to put in legend.\n"
     ]
    },
    {
     "data": {
      "image/png": "[encoded data removed]",
      "text/plain": [
       "<Figure size 720x360 with 1 Axes>"
      ]
     },
     "metadata": {
      "needs_background": "light"
     },
     "output_type": "display_data"
    }
   ],
   "source": [
    "plt.figure(figsize=(10,5))\n",
    "sns.barplot('Item_Fat_Content' ,'Item_Outlet_Sales', data=bmdTrain ,palette='twilight_shifted')\n",
    "plt.xlabel('Item_Fat_Content', fontsize=14)\n",
    "plt.legend()\n",
    "plt.show()"
   ]
  },
  {
   "cell_type": "markdown",
   "id": "ab00419d",
   "metadata": {},
   "source": [
    "## قسمت و"
   ]
  },
  {
   "cell_type": "code",
   "execution_count": 41,
   "id": "e98586e7",
   "metadata": {},
   "outputs": [],
   "source": [
    "X1,y1 = bmdTrain.drop('Item_Outlet_Sales',axis=1),bmdTrain['Item_Outlet_Sales']"
   ]
  },
  {
   "cell_type": "code",
   "execution_count": 42,
   "id": "11d7c020",
   "metadata": {},
   "outputs": [],
   "source": [
    "from sklearn.model_selection import train_test_split"
   ]
  },
  {
   "cell_type": "code",
   "execution_count": 43,
   "id": "905250da",
   "metadata": {},
   "outputs": [],
   "source": [
    "y = np.asarray(bmdTrain['Item_Outlet_Sales'].values.tolist()) \n",
    "bmdTrain.drop([\"Item_Outlet_Sales\"], axis = 1, inplace = True)"
   ]
  },
  {
   "cell_type": "code",
   "execution_count": 44,
   "id": "127969a1",
   "metadata": {},
   "outputs": [],
   "source": [
    "bmdTrain = bmdTrain.drop(columns=['Outlet_Identifier']) "
   ]
  },
  {
   "cell_type": "code",
   "execution_count": 45,
   "id": "99c033a9",
   "metadata": {},
   "outputs": [],
   "source": [
    "bmdTrain = bmdTrain.drop(columns=['Item_Identifier']) "
   ]
  },
  {
   "cell_type": "code",
   "execution_count": 46,
   "id": "f23b61da",
   "metadata": {},
   "outputs": [],
   "source": [
    "X = np.asarray(bmdTrain.values.tolist())"
   ]
  },
  {
   "cell_type": "code",
   "execution_count": 47,
   "id": "c522de72",
   "metadata": {},
   "outputs": [],
   "source": [
    "for i in range(X.shape[1]-2):\n",
    "  X[:,i] = (X[:,i] - int(np.mean(X[:,i])))/np.std(X[:,i])"
   ]
  },
  {
   "cell_type": "code",
   "execution_count": 48,
   "id": "050a3a2e",
   "metadata": {},
   "outputs": [],
   "source": [
    "y = y.reshape(len(y),1)"
   ]
  },
  {
   "cell_type": "code",
   "execution_count": 49,
   "id": "4d1128e9",
   "metadata": {},
   "outputs": [],
   "source": [
    "y1 = y"
   ]
  },
  {
   "cell_type": "code",
   "execution_count": 50,
   "id": "6248273c",
   "metadata": {},
   "outputs": [],
   "source": [
    "X = np.concatenate((X,np.ones((8523,1))), axis = 1)"
   ]
  },
  {
   "cell_type": "code",
   "execution_count": 51,
   "id": "a0a7001d",
   "metadata": {},
   "outputs": [],
   "source": [
    "X_norm = (X - X.min()) / (X.max() - X.min())\n",
    "y_norm = (y - y.min()) / (y.max() - y.min())"
   ]
  },
  {
   "cell_type": "markdown",
   "id": "47f986a3",
   "metadata": {},
   "source": [
    "### 80 10 10"
   ]
  },
  {
   "cell_type": "code",
   "execution_count": 59,
   "id": "f10a385b",
   "metadata": {},
   "outputs": [],
   "source": [
    "X_train, X_test, y_train, y_test = train_test_split(X_norm, y_norm, test_size=0.2, random_state=1)"
   ]
  },
  {
   "cell_type": "code",
   "execution_count": 60,
   "id": "df5d7772",
   "metadata": {},
   "outputs": [],
   "source": [
    "X_train_l, X_test_l, y_train_l, y_test_l = train_test_split(X, y, test_size=0.2, random_state=1)"
   ]
  },
  {
   "cell_type": "code",
   "execution_count": 61,
   "id": "864b5a56",
   "metadata": {},
   "outputs": [],
   "source": [
    "X_test,X_val,y_test,y_val = train_test_split(X_test, y_test, test_size=0.5, random_state=1)"
   ]
  },
  {
   "cell_type": "markdown",
   "id": "e290d880",
   "metadata": {},
   "source": [
    "### 60 20 20"
   ]
  },
  {
   "cell_type": "code",
   "execution_count": 62,
   "id": "3bb822d9",
   "metadata": {},
   "outputs": [],
   "source": [
    "X1_train, X1_test, y1_train, y1_test = train_test_split(X_norm, y_norm, test_size=0.4, random_state=1)"
   ]
  },
  {
   "cell_type": "code",
   "execution_count": 63,
   "id": "d4f10e28",
   "metadata": {},
   "outputs": [],
   "source": [
    "X1_train_l, X1_test_l, y1_train_l, y1_test_l = train_test_split(X, y, test_size=0.2, random_state=1)"
   ]
  },
  {
   "cell_type": "code",
   "execution_count": 64,
   "id": "02311883",
   "metadata": {},
   "outputs": [],
   "source": [
    "X1_test,X1_val,y1_test,y1_val = train_test_split(X1_test, y1_test, test_size=0.5, random_state=1)"
   ]
  },
  {
   "cell_type": "markdown",
   "id": "231011a8",
   "metadata": {},
   "source": [
    "### k fold"
   ]
  },
  {
   "cell_type": "code",
   "execution_count": 66,
   "id": "173d9a32",
   "metadata": {},
   "outputs": [],
   "source": [
    "import xgboost as xgb"
   ]
  },
  {
   "cell_type": "markdown",
   "id": "70ab1cf5",
   "metadata": {},
   "source": [
    "### k =3"
   ]
  },
  {
   "cell_type": "code",
   "execution_count": 67,
   "id": "bb148c97",
   "metadata": {},
   "outputs": [
    {
     "data": {
      "text/html": [
       "<div>\n",
       "<style scoped>\n",
       "    .dataframe tbody tr th:only-of-type {\n",
       "        vertical-align: middle;\n",
       "    }\n",
       "\n",
       "    .dataframe tbody tr th {\n",
       "        vertical-align: top;\n",
       "    }\n",
       "\n",
       "    .dataframe thead th {\n",
       "        text-align: right;\n",
       "    }\n",
       "</style>\n",
       "<table border=\"1\" class=\"dataframe\">\n",
       "  <thead>\n",
       "    <tr style=\"text-align: right;\">\n",
       "      <th></th>\n",
       "      <th>train-rmse-mean</th>\n",
       "      <th>train-rmse-std</th>\n",
       "      <th>test-rmse-mean</th>\n",
       "      <th>test-rmse-std</th>\n",
       "    </tr>\n",
       "  </thead>\n",
       "  <tbody>\n",
       "    <tr>\n",
       "      <th>0</th>\n",
       "      <td>2564.043120</td>\n",
       "      <td>20.639745</td>\n",
       "      <td>2565.493462</td>\n",
       "      <td>42.886652</td>\n",
       "    </tr>\n",
       "    <tr>\n",
       "      <th>1</th>\n",
       "      <td>2402.065368</td>\n",
       "      <td>15.881759</td>\n",
       "      <td>2404.288298</td>\n",
       "      <td>50.600928</td>\n",
       "    </tr>\n",
       "    <tr>\n",
       "      <th>2</th>\n",
       "      <td>2246.756292</td>\n",
       "      <td>19.529218</td>\n",
       "      <td>2251.294938</td>\n",
       "      <td>51.585496</td>\n",
       "    </tr>\n",
       "    <tr>\n",
       "      <th>3</th>\n",
       "      <td>2096.708381</td>\n",
       "      <td>7.183548</td>\n",
       "      <td>2102.327562</td>\n",
       "      <td>54.725738</td>\n",
       "    </tr>\n",
       "    <tr>\n",
       "      <th>4</th>\n",
       "      <td>1969.847359</td>\n",
       "      <td>12.126427</td>\n",
       "      <td>1975.858485</td>\n",
       "      <td>50.617198</td>\n",
       "    </tr>\n",
       "  </tbody>\n",
       "</table>\n",
       "</div>"
      ],
      "text/plain": [
       "   train-rmse-mean  train-rmse-std  test-rmse-mean  test-rmse-std\n",
       "0      2564.043120       20.639745     2565.493462      42.886652\n",
       "1      2402.065368       15.881759     2404.288298      50.600928\n",
       "2      2246.756292       19.529218     2251.294938      51.585496\n",
       "3      2096.708381        7.183548     2102.327562      54.725738\n",
       "4      1969.847359       12.126427     1975.858485      50.617198"
      ]
     },
     "execution_count": 67,
     "metadata": {},
     "output_type": "execute_result"
    }
   ],
   "source": [
    "data_dmatrix = xgb.DMatrix(data=X,label=y1)\n",
    "params = {\"objective\":\"reg:squarederror\",'colsample_bytree': 0.3,'learning_rate': 0.1,\n",
    "                'max_depth': 5, 'alpha': 10}\n",
    "\n",
    "cv_results = xgb.cv(dtrain=data_dmatrix, params=params, nfold=3,\n",
    "num_boost_round=10,early_stopping_rounds=10,metrics=\"rmse\", as_pandas=True, seed=123)\n",
    "cv_results.head()"
   ]
  },
  {
   "cell_type": "markdown",
   "id": "751c44e3",
   "metadata": {},
   "source": [
    "### k=4"
   ]
  },
  {
   "cell_type": "code",
   "execution_count": 68,
   "id": "1b4588ae",
   "metadata": {},
   "outputs": [
    {
     "data": {
      "text/html": [
       "<div>\n",
       "<style scoped>\n",
       "    .dataframe tbody tr th:only-of-type {\n",
       "        vertical-align: middle;\n",
       "    }\n",
       "\n",
       "    .dataframe tbody tr th {\n",
       "        vertical-align: top;\n",
       "    }\n",
       "\n",
       "    .dataframe thead th {\n",
       "        text-align: right;\n",
       "    }\n",
       "</style>\n",
       "<table border=\"1\" class=\"dataframe\">\n",
       "  <thead>\n",
       "    <tr style=\"text-align: right;\">\n",
       "      <th></th>\n",
       "      <th>train-rmse-mean</th>\n",
       "      <th>train-rmse-std</th>\n",
       "      <th>test-rmse-mean</th>\n",
       "      <th>test-rmse-std</th>\n",
       "    </tr>\n",
       "  </thead>\n",
       "  <tbody>\n",
       "    <tr>\n",
       "      <th>0</th>\n",
       "      <td>2564.132712</td>\n",
       "      <td>8.226550</td>\n",
       "      <td>2565.464167</td>\n",
       "      <td>26.345060</td>\n",
       "    </tr>\n",
       "    <tr>\n",
       "      <th>1</th>\n",
       "      <td>2399.493309</td>\n",
       "      <td>13.999682</td>\n",
       "      <td>2400.930951</td>\n",
       "      <td>25.404483</td>\n",
       "    </tr>\n",
       "    <tr>\n",
       "      <th>2</th>\n",
       "      <td>2244.094890</td>\n",
       "      <td>7.121242</td>\n",
       "      <td>2245.758005</td>\n",
       "      <td>28.490861</td>\n",
       "    </tr>\n",
       "    <tr>\n",
       "      <th>3</th>\n",
       "      <td>2092.464492</td>\n",
       "      <td>14.671275</td>\n",
       "      <td>2095.235501</td>\n",
       "      <td>32.219349</td>\n",
       "    </tr>\n",
       "    <tr>\n",
       "      <th>4</th>\n",
       "      <td>1965.507472</td>\n",
       "      <td>16.906853</td>\n",
       "      <td>1969.044126</td>\n",
       "      <td>42.346936</td>\n",
       "    </tr>\n",
       "  </tbody>\n",
       "</table>\n",
       "</div>"
      ],
      "text/plain": [
       "   train-rmse-mean  train-rmse-std  test-rmse-mean  test-rmse-std\n",
       "0      2564.132712        8.226550     2565.464167      26.345060\n",
       "1      2399.493309       13.999682     2400.930951      25.404483\n",
       "2      2244.094890        7.121242     2245.758005      28.490861\n",
       "3      2092.464492       14.671275     2095.235501      32.219349\n",
       "4      1965.507472       16.906853     1969.044126      42.346936"
      ]
     },
     "execution_count": 68,
     "metadata": {},
     "output_type": "execute_result"
    }
   ],
   "source": [
    "params = {\"objective\":\"reg:squarederror\",'colsample_bytree': 0.3,'learning_rate': 0.1,\n",
    "                'max_depth': 5, 'alpha': 10}\n",
    "\n",
    "cv_results = xgb.cv(dtrain=data_dmatrix, params=params, nfold=4,\n",
    "num_boost_round=10,early_stopping_rounds=10,metrics=\"rmse\", as_pandas=True, seed=123)\n",
    "cv_results.head()"
   ]
  },
  {
   "cell_type": "markdown",
   "id": "902870e6",
   "metadata": {},
   "source": [
    "### k =11"
   ]
  },
  {
   "cell_type": "code",
   "execution_count": 69,
   "id": "7c8c4478",
   "metadata": {},
   "outputs": [
    {
     "data": {
      "text/html": [
       "<div>\n",
       "<style scoped>\n",
       "    .dataframe tbody tr th:only-of-type {\n",
       "        vertical-align: middle;\n",
       "    }\n",
       "\n",
       "    .dataframe tbody tr th {\n",
       "        vertical-align: top;\n",
       "    }\n",
       "\n",
       "    .dataframe thead th {\n",
       "        text-align: right;\n",
       "    }\n",
       "</style>\n",
       "<table border=\"1\" class=\"dataframe\">\n",
       "  <thead>\n",
       "    <tr style=\"text-align: right;\">\n",
       "      <th></th>\n",
       "      <th>train-rmse-mean</th>\n",
       "      <th>train-rmse-std</th>\n",
       "      <th>test-rmse-mean</th>\n",
       "      <th>test-rmse-std</th>\n",
       "    </tr>\n",
       "  </thead>\n",
       "  <tbody>\n",
       "    <tr>\n",
       "      <th>0</th>\n",
       "      <td>2564.230007</td>\n",
       "      <td>7.700240</td>\n",
       "      <td>2564.315732</td>\n",
       "      <td>81.652814</td>\n",
       "    </tr>\n",
       "    <tr>\n",
       "      <th>1</th>\n",
       "      <td>2388.802109</td>\n",
       "      <td>15.171264</td>\n",
       "      <td>2389.622625</td>\n",
       "      <td>82.861185</td>\n",
       "    </tr>\n",
       "    <tr>\n",
       "      <th>2</th>\n",
       "      <td>2228.854497</td>\n",
       "      <td>23.420223</td>\n",
       "      <td>2230.768860</td>\n",
       "      <td>90.785425</td>\n",
       "    </tr>\n",
       "    <tr>\n",
       "      <th>3</th>\n",
       "      <td>2099.076318</td>\n",
       "      <td>25.731301</td>\n",
       "      <td>2101.350380</td>\n",
       "      <td>87.829915</td>\n",
       "    </tr>\n",
       "    <tr>\n",
       "      <th>4</th>\n",
       "      <td>1985.553299</td>\n",
       "      <td>37.128602</td>\n",
       "      <td>1988.341824</td>\n",
       "      <td>96.283612</td>\n",
       "    </tr>\n",
       "  </tbody>\n",
       "</table>\n",
       "</div>"
      ],
      "text/plain": [
       "   train-rmse-mean  train-rmse-std  test-rmse-mean  test-rmse-std\n",
       "0      2564.230007        7.700240     2564.315732      81.652814\n",
       "1      2388.802109       15.171264     2389.622625      82.861185\n",
       "2      2228.854497       23.420223     2230.768860      90.785425\n",
       "3      2099.076318       25.731301     2101.350380      87.829915\n",
       "4      1985.553299       37.128602     1988.341824      96.283612"
      ]
     },
     "execution_count": 69,
     "metadata": {},
     "output_type": "execute_result"
    }
   ],
   "source": [
    "params = {\"objective\":\"reg:squarederror\",'colsample_bytree': 0.3,'learning_rate': 0.1,\n",
    "                'max_depth': 5, 'alpha': 10}\n",
    "\n",
    "cv_results = xgb.cv(dtrain=data_dmatrix, params=params, nfold=11,\n",
    "num_boost_round=10,early_stopping_rounds=10,metrics=\"rmse\", as_pandas=True, seed=123)\n",
    "cv_results.head()"
   ]
  },
  {
   "cell_type": "markdown",
   "id": "09e9e417",
   "metadata": {},
   "source": [
    "### k = 15"
   ]
  },
  {
   "cell_type": "code",
   "execution_count": 70,
   "id": "83ccadd4",
   "metadata": {},
   "outputs": [
    {
     "data": {
      "text/html": [
       "<div>\n",
       "<style scoped>\n",
       "    .dataframe tbody tr th:only-of-type {\n",
       "        vertical-align: middle;\n",
       "    }\n",
       "\n",
       "    .dataframe tbody tr th {\n",
       "        vertical-align: top;\n",
       "    }\n",
       "\n",
       "    .dataframe thead th {\n",
       "        text-align: right;\n",
       "    }\n",
       "</style>\n",
       "<table border=\"1\" class=\"dataframe\">\n",
       "  <thead>\n",
       "    <tr style=\"text-align: right;\">\n",
       "      <th></th>\n",
       "      <th>train-rmse-mean</th>\n",
       "      <th>train-rmse-std</th>\n",
       "      <th>test-rmse-mean</th>\n",
       "      <th>test-rmse-std</th>\n",
       "    </tr>\n",
       "  </thead>\n",
       "  <tbody>\n",
       "    <tr>\n",
       "      <th>0</th>\n",
       "      <td>2564.242293</td>\n",
       "      <td>6.605683</td>\n",
       "      <td>2563.688775</td>\n",
       "      <td>97.384832</td>\n",
       "    </tr>\n",
       "    <tr>\n",
       "      <th>1</th>\n",
       "      <td>2388.503799</td>\n",
       "      <td>14.863483</td>\n",
       "      <td>2388.695338</td>\n",
       "      <td>91.786214</td>\n",
       "    </tr>\n",
       "    <tr>\n",
       "      <th>2</th>\n",
       "      <td>2232.732791</td>\n",
       "      <td>18.423259</td>\n",
       "      <td>2234.301495</td>\n",
       "      <td>93.533191</td>\n",
       "    </tr>\n",
       "    <tr>\n",
       "      <th>3</th>\n",
       "      <td>2101.293357</td>\n",
       "      <td>20.626162</td>\n",
       "      <td>2103.783878</td>\n",
       "      <td>99.891571</td>\n",
       "    </tr>\n",
       "    <tr>\n",
       "      <th>4</th>\n",
       "      <td>1986.068472</td>\n",
       "      <td>24.733860</td>\n",
       "      <td>1988.025574</td>\n",
       "      <td>88.778064</td>\n",
       "    </tr>\n",
       "  </tbody>\n",
       "</table>\n",
       "</div>"
      ],
      "text/plain": [
       "   train-rmse-mean  train-rmse-std  test-rmse-mean  test-rmse-std\n",
       "0      2564.242293        6.605683     2563.688775      97.384832\n",
       "1      2388.503799       14.863483     2388.695338      91.786214\n",
       "2      2232.732791       18.423259     2234.301495      93.533191\n",
       "3      2101.293357       20.626162     2103.783878      99.891571\n",
       "4      1986.068472       24.733860     1988.025574      88.778064"
      ]
     },
     "execution_count": 70,
     "metadata": {},
     "output_type": "execute_result"
    }
   ],
   "source": [
    "params = {\"objective\":\"reg:squarederror\",'colsample_bytree': 0.3,'learning_rate': 0.1,\n",
    "                'max_depth': 5, 'alpha': 10}\n",
    "\n",
    "cv_results = xgb.cv(dtrain=data_dmatrix, params=params, nfold=15,\n",
    "num_boost_round=10,early_stopping_rounds=10,metrics=\"rmse\", as_pandas=True, seed=123)\n",
    "cv_results.head()"
   ]
  },
  {
   "cell_type": "markdown",
   "id": "3444a9ce",
   "metadata": {},
   "source": [
    "### زمانی که تعداد برابر پانزده است اورفیت داریم و همان طور که میبینیم خطا روی داده ی تست بسیار زیاد است ولی روی داده آموزشی کم است زمانی که برابر چهار است خطای تست و آموزش هر دو خوب است و زمانی که برابر سه است خطای آموزش کمی زیاد است و آندرفیت داریم"
   ]
  },
  {
   "cell_type": "markdown",
   "id": "e4eee157",
   "metadata": {},
   "source": [
    "## قسمت ه"
   ]
  },
  {
   "cell_type": "code",
   "execution_count": 71,
   "id": "40f20f2f",
   "metadata": {},
   "outputs": [],
   "source": [
    "class Regression1:\n",
    "    def __init__(self, learning_rate, iteration):\n",
    "        self.m = None\n",
    "        self.n = None\n",
    "        self.w = None\n",
    "        self.b = None \n",
    "        self.lr = learning_rate\n",
    "        self.it = iteration\n",
    "\n",
    "    def cost_function(self, y, y_pred):\n",
    "        return (1 / (2*self.m)) * np.sum(np.square(y_pred - y))\n",
    "    \n",
    "    \n",
    "    def hypothesis(self, weights, bias, X):\n",
    "        return np.dot(X, weights) \n",
    "    \n",
    "    \n",
    "\n",
    "    def train(self, X, y):\n",
    "        num_e = []\n",
    "        train_loss = []\n",
    "        X = np.insert(X, 0, 1, axis=1)\n",
    "        try:\n",
    "            y.shape[1]\n",
    "        except IndexError as e:\n",
    "            print(\"ERROR: Target array should be a one dimentional array not a list\"\n",
    "                  \"----> here the target value not in the shape of (n,1). \\nShape ({shape_y_0},1) and {shape_y} not match\"\n",
    "                  .format(shape_y_0 = y.shape[0] , shape_y = y.shape))\n",
    "            return \n",
    "        \n",
    "        self.m = X.shape[0]\n",
    "        self.n = X.shape[1]\n",
    "        self.w = np.zeros((self.n , 1))\n",
    "        self.b = 0\n",
    "\n",
    "        for it in range(1, self.it+1):\n",
    "            y_pred = self.hypothesis(self.w, self.b, X)\n",
    "            cost = self.cost_function(y, y_pred)\n",
    "            train_loss.append(cost)\n",
    "            num_e.append(it)\n",
    "            dw = (1/self.m) * np.dot(X.T, (y_pred - y)) \n",
    "            self.w = self.w - self.lr * dw\n",
    "\n",
    "            if it % 10 == 0:\n",
    "                print(\"The Cost function for the iteration {}----->{} :)\".format(it, cost))\n",
    "        return train_loss,num_e\n",
    "    \n",
    "    def predict(self, test_X):\n",
    "        \n",
    "        test_X = np.insert(test_X, 0, 1, axis=1)\n",
    "        y_pred = self.hypothesis(self.w, self.b, test_X)\n",
    "        return y_pred\n",
    "\n",
    "  "
   ]
  },
  {
   "cell_type": "code",
   "execution_count": 72,
   "id": "556b5aff",
   "metadata": {},
   "outputs": [],
   "source": [
    "class LinearRegression(Regression1):\n",
    "\n",
    "    def __init__(self,learning_rate, iteration):\n",
    "        super(LinearRegression, self).__init__(learning_rate, iteration)\n",
    "\n",
    "    def train(self, X, y):\n",
    "        return super(LinearRegression, self).train(X, y)\n",
    "    def predict(self, test_X):\n",
    "        return super(LinearRegression, self).predict(test_X)"
   ]
  },
  {
   "cell_type": "code",
   "execution_count": 73,
   "id": "41187fe5",
   "metadata": {},
   "outputs": [],
   "source": [
    "param = {\n",
    "    \"learning_rate\" : 0.0001,\n",
    "    \"iteration\" : 100\n",
    "}"
   ]
  },
  {
   "cell_type": "markdown",
   "id": "7a284982",
   "metadata": {},
   "source": [
    "### 80 10 10"
   ]
  },
  {
   "cell_type": "code",
   "execution_count": 74,
   "id": "92b5e34c",
   "metadata": {},
   "outputs": [
    {
     "name": "stdout",
     "output_type": "stream",
     "text": [
      "The Cost function for the iteration 10----->0.02213552525335317 :)\n",
      "The Cost function for the iteration 20----->0.022094053462337313 :)\n",
      "The Cost function for the iteration 30----->0.0220527075629642 :)\n",
      "The Cost function for the iteration 40----->0.022011487172977604 :)\n",
      "The Cost function for the iteration 50----->0.02197039191128201 :)\n",
      "The Cost function for the iteration 60----->0.021929421397939047 :)\n",
      "The Cost function for the iteration 70----->0.021888575254163968 :)\n",
      "The Cost function for the iteration 80----->0.021847853102322196 :)\n",
      "The Cost function for the iteration 90----->0.021807254565925797 :)\n",
      "The Cost function for the iteration 100----->0.02176677926962998 :)\n",
      "The r2_score of the trained model -1.5591207007291112\n"
     ]
    }
   ],
   "source": [
    "linear_reg1 = LinearRegression(**param)\n",
    "linear_loss1,e10=linear_reg1.train(X_train, y_train) \n",
    "y10_pred = linear_reg1.predict(X_train)\n",
    "score = r2_score(y_train, y10_pred)\n",
    "print(\"The r2_score of the trained model\", score)"
   ]
  },
  {
   "cell_type": "code",
   "execution_count": 75,
   "id": "bc7180af",
   "metadata": {},
   "outputs": [
    {
     "data": {
      "image/png": "[encoded data removed]",
      "text/plain": [
       "<Figure size 432x288 with 1 Axes>"
      ]
     },
     "metadata": {
      "needs_background": "light"
     },
     "output_type": "display_data"
    }
   ],
   "source": [
    "plt.plot(e10,linear_loss1)\n",
    "plt.xlabel('Number of Epochs')\n",
    "plt.ylabel('Loss')\n",
    "plt.title('Plot Loss')\n",
    "plt.show()"
   ]
  },
  {
   "cell_type": "markdown",
   "id": "5a6ff934",
   "metadata": {},
   "source": [
    "### 60 20 20"
   ]
  },
  {
   "cell_type": "code",
   "execution_count": 76,
   "id": "6f707284",
   "metadata": {},
   "outputs": [
    {
     "name": "stdout",
     "output_type": "stream",
     "text": [
      "The Cost function for the iteration 10----->0.022277925885029637 :)\n",
      "The Cost function for the iteration 20----->0.02223612688910365 :)\n",
      "The Cost function for the iteration 30----->0.022194454879046494 :)\n",
      "The Cost function for the iteration 40----->0.02215290946897158 :)\n",
      "The Cost function for the iteration 50----->0.02211149027416497 :)\n",
      "The Cost function for the iteration 60----->0.022070196911081797 :)\n",
      "The Cost function for the iteration 70----->0.022029028997342718 :)\n",
      "The Cost function for the iteration 80----->0.021987986151730376 :)\n",
      "The Cost function for the iteration 90----->0.021947067994185863 :)\n",
      "The Cost function for the iteration 100----->0.0219062741458052 :)\n",
      "The r2_score of the trained model -1.5579453830704377\n"
     ]
    }
   ],
   "source": [
    "linear_reg2 = LinearRegression(**param)\n",
    "linear_loss2,e11=linear_reg2.train(X1_train, y1_train) \n",
    "y11_pred = linear_reg1.predict(X1_train)\n",
    "score = r2_score(y1_train, y11_pred)\n",
    "print(\"The r2_score of the trained model\", score)"
   ]
  },
  {
   "cell_type": "code",
   "execution_count": 77,
   "id": "7224c214",
   "metadata": {},
   "outputs": [
    {
     "data": {
      "image/png": "[encoded data removed]",
      "text/plain": [
       "<Figure size 432x288 with 1 Axes>"
      ]
     },
     "metadata": {
      "needs_background": "light"
     },
     "output_type": "display_data"
    }
   ],
   "source": [
    "plt.plot(e11,linear_loss2)\n",
    "plt.xlabel('Number of Epochs')\n",
    "plt.ylabel('Loss')\n",
    "plt.title('Plot Loss')\n",
    "plt.show()"
   ]
  },
  {
   "cell_type": "markdown",
   "id": "074d193c",
   "metadata": {},
   "source": [
    "## قسمت ی"
   ]
  },
  {
   "cell_type": "code",
   "execution_count": 78,
   "id": "0af03d49",
   "metadata": {},
   "outputs": [],
   "source": [
    "class Regression:\n",
    "    def __init__(self, learning_rate, iteration, regularization):\n",
    "        self.m = None\n",
    "        self.n = None\n",
    "        self.w = None\n",
    "        self.b = None\n",
    "        self.regularization = regularization \n",
    "        self.lr = learning_rate\n",
    "        self.it = iteration\n",
    "\n",
    "    def cost_function(self, y, y_pred):\n",
    "        return (1 / (2*self.m)) * np.sum(np.square(y_pred - y)) + self.regularization(self.w)\n",
    "    \n",
    "    \n",
    "    def hypothesis(self, weights, bias, X):\n",
    "        return np.dot(X, weights) \n",
    "    \n",
    "    \n",
    "\n",
    "    def train(self, X, y):\n",
    "        num_e = []\n",
    "        train_loss = []\n",
    "        X = np.insert(X, 0, 1, axis=1)\n",
    "        try:\n",
    "            y.shape[1]\n",
    "        except IndexError as e:\n",
    "            print(\"ERROR: Target array should be a one dimentional array not a list\"\n",
    "                  \"----> here the target value not in the shape of (n,1). \\nShape ({shape_y_0},1) and {shape_y} not match\"\n",
    "                  .format(shape_y_0 = y.shape[0] , shape_y = y.shape))\n",
    "            return \n",
    "        \n",
    "        self.m = X.shape[0]\n",
    "        self.n = X.shape[1]\n",
    "        self.w = np.zeros((self.n , 1))\n",
    "        self.b = 0\n",
    "\n",
    "        for it in range(1, self.it+1):\n",
    "            y_pred = self.hypothesis(self.w, self.b, X)\n",
    "            cost = self.cost_function(y, y_pred)\n",
    "            train_loss.append(cost)\n",
    "            num_e.append(it)\n",
    "            dw = (1/self.m) * np.dot(X.T, (y_pred - y)) + self.regularization.derivation(self.w)\n",
    "            self.w = self.w - self.lr * dw\n",
    "\n",
    "            if it % 10 == 0:\n",
    "                print(\"The Cost function for the iteration {}----->{} :)\".format(it, cost))\n",
    "        return train_loss,num_e\n",
    "    \n",
    "    def predict(self, test_X):\n",
    "        test_X = np.insert(test_X, 0, 1, axis=1)\n",
    "        y_pred = self.hypothesis(self.w, self.b, test_X)\n",
    "        return y_pred"
   ]
  },
  {
   "cell_type": "code",
   "execution_count": 79,
   "id": "988d7961",
   "metadata": {},
   "outputs": [],
   "source": [
    "class l1_regularization:\n",
    "    def __init__(self, lamda):\n",
    "        self.lamda = lamda\n",
    "\n",
    "    def __call__(self, weights):\n",
    "        return self.lamda * np.sum(np.abs(weights))\n",
    "    \n",
    "    def derivation(self, weights):\n",
    "        return self.lamda * np.sign(weights)\n",
    "\n",
    "\n",
    "class l2_regularization:\n",
    "    def __init__(self, lamda):\n",
    "        self.lamda = lamda\n",
    "\n",
    "    def __call__(self, weights):\n",
    "        return self.lamda * np.sum(np.square(weights))\n",
    "    \n",
    "    def derivation(self, weights):\n",
    "        return self.lamda * 2 * (weights)"
   ]
  },
  {
   "cell_type": "code",
   "execution_count": 80,
   "id": "d9439b4f",
   "metadata": {},
   "outputs": [],
   "source": [
    "class RidgeRegression(Regression):\n",
    "\n",
    "    def __init__(self, lamda, learning_rate, iteration):\n",
    "        self.regularization = l2_regularization(lamda)\n",
    "        super(RidgeRegression, self).__init__(learning_rate, iteration, self.regularization)\n",
    "\n",
    "    def train(self, X, y):\n",
    "        return super(RidgeRegression, self).train(X, y)\n",
    "    def predict(self, test_X):\n",
    "        return super(RidgeRegression, self).predict(test_X)"
   ]
  },
  {
   "cell_type": "code",
   "execution_count": 81,
   "id": "1d4b7de5",
   "metadata": {},
   "outputs": [],
   "source": [
    "param = {\n",
    "    \"lamda\" : 1,\n",
    "    \"learning_rate\" : 0.0001,\n",
    "    \"iteration\" : 100\n",
    "}"
   ]
  },
  {
   "cell_type": "markdown",
   "id": "32e8f13e",
   "metadata": {},
   "source": [
    "### 80 10 10"
   ]
  },
  {
   "cell_type": "code",
   "execution_count": 82,
   "id": "ea713921",
   "metadata": {},
   "outputs": [
    {
     "name": "stdout",
     "output_type": "stream",
     "text": [
      "The Cost function for the iteration 10----->0.022135588799954472 :)\n",
      "The Cost function for the iteration 20----->0.02209434446571188 :)\n",
      "The Cost function for the iteration 30----->0.02205338952195573 :)\n",
      "The Cost function for the iteration 40----->0.02201272193808173 :)\n",
      "The Cost function for the iteration 50----->0.02197233969773442 :)\n",
      "The Cost function for the iteration 60----->0.021932240798707155 :)\n",
      "The Cost function for the iteration 70----->0.021892423252842814 :)\n",
      "The Cost function for the iteration 80----->0.021852885085935223 :)\n",
      "The Cost function for the iteration 90----->0.02181362433763128 :)\n",
      "The Cost function for the iteration 100----->0.021774639061333704 :)\n",
      "The r2_score of the trained model -1.5595904556764473\n"
     ]
    }
   ],
   "source": [
    "ridge_reg1 = RidgeRegression(**param)\n",
    "loss1,e =ridge_reg1.train(X_train, y_train) \n",
    "y_pred = ridge_reg1.predict(X_train)\n",
    "score = r2_score(y_train, y_pred)\n",
    "print(\"The r2_score of the trained model\", score)"
   ]
  },
  {
   "cell_type": "code",
   "execution_count": 83,
   "id": "47920ce1",
   "metadata": {},
   "outputs": [
    {
     "data": {
      "image/png": "[encoded data removed]",
      "text/plain": [
       "<Figure size 432x288 with 1 Axes>"
      ]
     },
     "metadata": {
      "needs_background": "light"
     },
     "output_type": "display_data"
    }
   ],
   "source": [
    "plt.plot(e,loss1)\n",
    "plt.xlabel('Number of Epochs')\n",
    "plt.ylabel('Loss')\n",
    "plt.title('Plot Loss')\n",
    "plt.show()"
   ]
  },
  {
   "cell_type": "markdown",
   "id": "8aa4df22",
   "metadata": {},
   "source": [
    "### 60 20 20"
   ]
  },
  {
   "cell_type": "code",
   "execution_count": 84,
   "id": "7131faf3",
   "metadata": {},
   "outputs": [
    {
     "name": "stdout",
     "output_type": "stream",
     "text": [
      "The Cost function for the iteration 10----->0.022277989933132694 :)\n",
      "The Cost function for the iteration 20----->0.022236420188566863 :)\n",
      "The Cost function for the iteration 30----->0.022195142217755145 :)\n",
      "The Cost function for the iteration 40----->0.022154153972667005 :)\n",
      "The Cost function for the iteration 50----->0.022113453419647943 :)\n",
      "The Cost function for the iteration 60----->0.02207303853931857 :)\n",
      "The Cost function for the iteration 70----->0.0220329073264744 :)\n",
      "The Cost function for the iteration 80----->0.02199305778998636 :)\n",
      "The Cost function for the iteration 90----->0.021953487952701974 :)\n",
      "The Cost function for the iteration 100----->0.021914195851347264 :)\n",
      "The r2_score of the trained model -1.5582278162790208\n"
     ]
    }
   ],
   "source": [
    "ridge_reg2 = RidgeRegression(**param)\n",
    "loss2,e1 =ridge_reg2.train(X1_train, y1_train) \n",
    "y_pred1 = ridge_reg2.predict(X1_train)\n",
    "score1 = r2_score(y1_train, y_pred1)\n",
    "print(\"The r2_score of the trained model\", score1)"
   ]
  },
  {
   "cell_type": "code",
   "execution_count": 85,
   "id": "b633a968",
   "metadata": {},
   "outputs": [
    {
     "data": {
      "image/png": "[encoded data removed]",
      "text/plain": [
       "<Figure size 432x288 with 1 Axes>"
      ]
     },
     "metadata": {
      "needs_background": "light"
     },
     "output_type": "display_data"
    }
   ],
   "source": [
    "plt.plot(e1,loss2)\n",
    "plt.xlabel('Number of Epochs')\n",
    "plt.ylabel('Loss')\n",
    "plt.title('Plot Loss')\n",
    "plt.show()"
   ]
  },
  {
   "cell_type": "markdown",
   "id": "1ced3f98",
   "metadata": {},
   "source": [
    "## قسمت ک"
   ]
  },
  {
   "cell_type": "markdown",
   "id": "e63dddfc",
   "metadata": {},
   "source": [
    "#### در تلاش برای به حداقل رساندن تابع هزینه رگرسیون لاسو به طور خودکار آن دسته از ویژگی هایی را انتخاب میکند که مفید هستند در رگرسیون ریدج چون توان دو داریم زمانی که یک عدد کوچک به توان 2 میرسد خود به خود خیلی کوچک میشود و حذف میشود اما در لاسو چون با قدر مطلق سروکار داریم خودش باید آن را صفر کند و در نهایت فقط آن ویژگی هایی را در نظر میگیریم که ضریب متفاوتی با صفر دارند"
   ]
  },
  {
   "cell_type": "markdown",
   "id": "8702720a",
   "metadata": {},
   "source": [
    "## ک الف"
   ]
  },
  {
   "cell_type": "code",
   "execution_count": 86,
   "id": "eff833c7",
   "metadata": {},
   "outputs": [],
   "source": [
    "class LassoRegression(Regression):\n",
    "\n",
    "    def __init__(self, lamda, learning_rate, iteration):\n",
    "      \n",
    "        self.regularization = l1_regularization(lamda)\n",
    "        super(LassoRegression, self).__init__(learning_rate, iteration, self.regularization)\n",
    "\n",
    "    def train(self, X, y):\n",
    "    \n",
    "        return super(LassoRegression, self).train(X, y)\n",
    "    def predict(self, test_X):\n",
    "       \n",
    "        return super(LassoRegression, self).predict(test_X)"
   ]
  },
  {
   "cell_type": "markdown",
   "id": "f99ceaa5",
   "metadata": {},
   "source": [
    "### 80 10 10"
   ]
  },
  {
   "cell_type": "code",
   "execution_count": 87,
   "id": "4c53b6e0",
   "metadata": {},
   "outputs": [],
   "source": [
    "param = {\n",
    "    \"lamda\" : 0.1,\n",
    "    \"learning_rate\" : 0.0001,\n",
    "    \"iteration\" : 100\n",
    "}"
   ]
  },
  {
   "cell_type": "code",
   "execution_count": 88,
   "id": "159e4d11",
   "metadata": {},
   "outputs": [
    {
     "name": "stdout",
     "output_type": "stream",
     "text": [
      "The Cost function for the iteration 10----->0.0221757012432811 :)\n",
      "The Cost function for the iteration 20----->0.02216726133184672 :)\n",
      "The Cost function for the iteration 30----->0.02216457813291176 :)\n",
      "The Cost function for the iteration 40----->0.0221612975373692 :)\n",
      "The Cost function for the iteration 50----->0.022154164406066428 :)\n",
      "The Cost function for the iteration 60----->0.022152412575720103 :)\n",
      "The Cost function for the iteration 70----->0.02214619496147805 :)\n",
      "The Cost function for the iteration 80----->0.022142438244100292 :)\n",
      "The Cost function for the iteration 90----->0.022138682769738627 :)\n",
      "The Cost function for the iteration 100----->0.02213319789800925 :)\n",
      "The r2_score of the trained model -1.5928552727797052\n"
     ]
    }
   ],
   "source": [
    "lasso_reg1 = LassoRegression(**param)\n",
    "train_loss3,e3=lasso_reg1.train(X_train, y_train) \n",
    "y2_pred = lasso_reg1.predict(X_train)\n",
    "score = r2_score(y_train, y2_pred)\n",
    "print(\"The r2_score of the trained model\", score)"
   ]
  },
  {
   "cell_type": "code",
   "execution_count": 89,
   "id": "638fbfde",
   "metadata": {},
   "outputs": [
    {
     "data": {
      "image/png": "[encoded data removed]",
      "text/plain": [
       "<Figure size 432x288 with 1 Axes>"
      ]
     },
     "metadata": {
      "needs_background": "light"
     },
     "output_type": "display_data"
    }
   ],
   "source": [
    "plt.plot(e3,train_loss3)\n",
    "plt.xlabel('Number of Epochs')\n",
    "plt.ylabel('Loss')\n",
    "plt.title('Plot Loss')\n",
    "plt.show()"
   ]
  },
  {
   "cell_type": "markdown",
   "id": "e1958a00",
   "metadata": {},
   "source": [
    "### 60 20 20"
   ]
  },
  {
   "cell_type": "code",
   "execution_count": 90,
   "id": "705e925a",
   "metadata": {},
   "outputs": [
    {
     "name": "stdout",
     "output_type": "stream",
     "text": [
      "The Cost function for the iteration 10----->0.022318343643133762 :)\n",
      "The Cost function for the iteration 20----->0.022309711389653163 :)\n",
      "The Cost function for the iteration 30----->0.02230710475096977 :)\n",
      "The Cost function for the iteration 40----->0.02230351986137777 :)\n",
      "The Cost function for the iteration 50----->0.0222965012575931 :)\n",
      "The Cost function for the iteration 60----->0.022294731951489694 :)\n",
      "The Cost function for the iteration 70----->0.022288330000577474 :)\n",
      "The Cost function for the iteration 80----->0.022284547999015185 :)\n",
      "The Cost function for the iteration 90----->0.022280558483482225 :)\n",
      "The Cost function for the iteration 100----->0.02227503874950595 :)\n",
      "The r2_score of the trained model -1.591398125520017\n"
     ]
    }
   ],
   "source": [
    "lasso_reg2 = LassoRegression(**param)\n",
    "train_loss4,e4=lasso_reg2.train(X1_train, y1_train) \n",
    "y2_pred = lasso_reg2.predict(X1_train)\n",
    "score = r2_score(y1_train, y2_pred)\n",
    "print(\"The r2_score of the trained model\", score)"
   ]
  },
  {
   "cell_type": "code",
   "execution_count": 91,
   "id": "d1fc2501",
   "metadata": {},
   "outputs": [
    {
     "data": {
      "image/png": "[encoded data removed]",
      "text/plain": [
       "<Figure size 432x288 with 1 Axes>"
      ]
     },
     "metadata": {
      "needs_background": "light"
     },
     "output_type": "display_data"
    }
   ],
   "source": [
    "plt.plot(e4,train_loss4)\n",
    "plt.xlabel('Number of Epochs')\n",
    "plt.ylabel('Loss')\n",
    "plt.title('Plot Loss')\n",
    "plt.show()"
   ]
  },
  {
   "cell_type": "markdown",
   "id": "8fd1520e",
   "metadata": {},
   "source": [
    "## قسمت گ"
   ]
  },
  {
   "cell_type": "code",
   "execution_count": 92,
   "id": "75d8ffc4",
   "metadata": {},
   "outputs": [],
   "source": [
    "from sklearn.metrics import mean_squared_error\n",
    "from sklearn.metrics import mean_absolute_error"
   ]
  },
  {
   "cell_type": "markdown",
   "id": "eaf27d29",
   "metadata": {},
   "source": [
    "### مدل ها را با داده های آموزشی در قسمت های قبل آموزش دادیم حالا داده های تست را به آن ها می دهیم"
   ]
  },
  {
   "cell_type": "markdown",
   "id": "ee587fbb",
   "metadata": {},
   "source": [
    "### ridge"
   ]
  },
  {
   "cell_type": "markdown",
   "id": "1d1ba6a7",
   "metadata": {},
   "source": [
    "### 80 20"
   ]
  },
  {
   "cell_type": "code",
   "execution_count": 93,
   "id": "9a4fd513",
   "metadata": {},
   "outputs": [],
   "source": [
    "y_pred_ridge1=ridge_reg1.predict(X_test)"
   ]
  },
  {
   "cell_type": "code",
   "execution_count": 94,
   "id": "cfc5e9f9",
   "metadata": {},
   "outputs": [
    {
     "data": {
      "text/plain": [
       "0.04134053326056532"
      ]
     },
     "execution_count": 94,
     "metadata": {},
     "output_type": "execute_result"
    }
   ],
   "source": [
    "mean_squared_error(y_test, y_pred_ridge1)"
   ]
  },
  {
   "cell_type": "code",
   "execution_count": 95,
   "id": "59bae2b2",
   "metadata": {},
   "outputs": [
    {
     "data": {
      "text/plain": [
       "0.15606133872751377"
      ]
     },
     "execution_count": 95,
     "metadata": {},
     "output_type": "execute_result"
    }
   ],
   "source": [
    "mean_absolute_error(y_test,y_pred_ridge1)"
   ]
  },
  {
   "cell_type": "markdown",
   "id": "0173185d",
   "metadata": {},
   "source": [
    "### 60 40"
   ]
  },
  {
   "cell_type": "code",
   "execution_count": 96,
   "id": "e1a1ed77",
   "metadata": {},
   "outputs": [],
   "source": [
    "y_pred_ridge2 = ridge_reg2.predict(X1_test)"
   ]
  },
  {
   "cell_type": "code",
   "execution_count": 97,
   "id": "e72a1f03",
   "metadata": {},
   "outputs": [
    {
     "data": {
      "text/plain": [
       "0.04176849440218974"
      ]
     },
     "execution_count": 97,
     "metadata": {},
     "output_type": "execute_result"
    }
   ],
   "source": [
    "mean_squared_error(y1_test,y_pred_ridge2)"
   ]
  },
  {
   "cell_type": "code",
   "execution_count": 98,
   "id": "5918ceb7",
   "metadata": {},
   "outputs": [
    {
     "data": {
      "text/plain": [
       "0.16045171497271316"
      ]
     },
     "execution_count": 98,
     "metadata": {},
     "output_type": "execute_result"
    }
   ],
   "source": [
    "mean_absolute_error(y1_test,y_pred_ridge2)"
   ]
  },
  {
   "cell_type": "markdown",
   "id": "181655f7",
   "metadata": {},
   "source": [
    "### lasso"
   ]
  },
  {
   "cell_type": "markdown",
   "id": "6787e900",
   "metadata": {},
   "source": [
    "### 80 20"
   ]
  },
  {
   "cell_type": "code",
   "execution_count": 99,
   "id": "f3d93ac5",
   "metadata": {},
   "outputs": [],
   "source": [
    "y_pred_lasso1 = lasso_reg1.predict(X_test)"
   ]
  },
  {
   "cell_type": "code",
   "execution_count": 100,
   "id": "13dbc864",
   "metadata": {},
   "outputs": [
    {
     "data": {
      "text/plain": [
       "0.041879790345716886"
      ]
     },
     "execution_count": 100,
     "metadata": {},
     "output_type": "execute_result"
    }
   ],
   "source": [
    "mean_squared_error(y_test,y_pred_lasso1)"
   ]
  },
  {
   "cell_type": "code",
   "execution_count": 101,
   "id": "454b4e2b",
   "metadata": {},
   "outputs": [
    {
     "data": {
      "text/plain": [
       "0.15774707076713912"
      ]
     },
     "execution_count": 101,
     "metadata": {},
     "output_type": "execute_result"
    }
   ],
   "source": [
    "mean_absolute_error(y_test,y_pred_lasso1)"
   ]
  },
  {
   "cell_type": "markdown",
   "id": "4e92381c",
   "metadata": {},
   "source": [
    "### 60 40"
   ]
  },
  {
   "cell_type": "code",
   "execution_count": 102,
   "id": "d54a4178",
   "metadata": {},
   "outputs": [],
   "source": [
    "y_pred_lasso2 = lasso_reg2.predict(X1_test)"
   ]
  },
  {
   "cell_type": "code",
   "execution_count": 103,
   "id": "eda23b01",
   "metadata": {},
   "outputs": [
    {
     "data": {
      "text/plain": [
       "0.04232515594691755"
      ]
     },
     "execution_count": 103,
     "metadata": {},
     "output_type": "execute_result"
    }
   ],
   "source": [
    "mean_squared_error(y1_test,y_pred_lasso2)"
   ]
  },
  {
   "cell_type": "code",
   "execution_count": 104,
   "id": "dc0ccf0c",
   "metadata": {},
   "outputs": [
    {
     "data": {
      "text/plain": [
       "0.16214261501623176"
      ]
     },
     "execution_count": 104,
     "metadata": {},
     "output_type": "execute_result"
    }
   ],
   "source": [
    "mean_absolute_error(y1_test,y_pred_lasso2)"
   ]
  },
  {
   "cell_type": "markdown",
   "id": "bafc280a",
   "metadata": {},
   "source": [
    "### linear"
   ]
  },
  {
   "cell_type": "markdown",
   "id": "d235fb90",
   "metadata": {},
   "source": [
    "### 80 20"
   ]
  },
  {
   "cell_type": "code",
   "execution_count": 105,
   "id": "68dca7c4",
   "metadata": {},
   "outputs": [],
   "source": [
    "y_pred_linear1= linear_reg1.predict(X_test)"
   ]
  },
  {
   "cell_type": "code",
   "execution_count": 106,
   "id": "ead9c7e3",
   "metadata": {},
   "outputs": [
    {
     "data": {
      "text/plain": [
       "0.04133291145952124"
      ]
     },
     "execution_count": 106,
     "metadata": {},
     "output_type": "execute_result"
    }
   ],
   "source": [
    "mean_squared_error(y_test,y_pred_linear1)"
   ]
  },
  {
   "cell_type": "code",
   "execution_count": 107,
   "id": "c716ce03",
   "metadata": {},
   "outputs": [
    {
     "data": {
      "text/plain": [
       "0.15603746732011714"
      ]
     },
     "execution_count": 107,
     "metadata": {},
     "output_type": "execute_result"
    }
   ],
   "source": [
    "mean_absolute_error(y_test,y_pred_linear1)"
   ]
  },
  {
   "cell_type": "markdown",
   "id": "9f92c293",
   "metadata": {},
   "source": [
    "### 60 40"
   ]
  },
  {
   "cell_type": "code",
   "execution_count": 108,
   "id": "f10c7147",
   "metadata": {},
   "outputs": [],
   "source": [
    "y_pred_linear2= linear_reg2.predict(X_test)"
   ]
  },
  {
   "cell_type": "code",
   "execution_count": 109,
   "id": "a639db8f",
   "metadata": {},
   "outputs": [
    {
     "data": {
      "text/plain": [
       "0.041329864102528556"
      ]
     },
     "execution_count": 109,
     "metadata": {},
     "output_type": "execute_result"
    }
   ],
   "source": [
    "mean_squared_error(y_test,y_pred_linear2)"
   ]
  },
  {
   "cell_type": "code",
   "execution_count": 110,
   "id": "c56fea96",
   "metadata": {},
   "outputs": [
    {
     "data": {
      "text/plain": [
       "0.15602793808614998"
      ]
     },
     "execution_count": 110,
     "metadata": {},
     "output_type": "execute_result"
    }
   ],
   "source": [
    "mean_absolute_error(y_test,y_pred_linear2)"
   ]
  },
  {
   "cell_type": "markdown",
   "id": "c5db3869",
   "metadata": {},
   "source": [
    "#### همان طور که انتظار داشتیم خطای قدر مطلق کمتر از مربع است"
   ]
  },
  {
   "cell_type": "markdown",
   "id": "5fd5a592",
   "metadata": {},
   "source": [
    "## قسمت ل"
   ]
  },
  {
   "cell_type": "markdown",
   "id": "01ee7250",
   "metadata": {},
   "source": [
    "#### داده ها را به صورت نرمال نشده میگذاریم تا تفاوت خطا واضح باشد"
   ]
  },
  {
   "cell_type": "markdown",
   "id": "cc6ddd23",
   "metadata": {},
   "source": [
    "alfa=0.01"
   ]
  },
  {
   "cell_type": "code",
   "execution_count": 111,
   "id": "f10ff38a",
   "metadata": {},
   "outputs": [],
   "source": [
    "param1 = {\n",
    "    \"lamda\" : 1,\n",
    "    \"learning_rate\" : 0.01,\n",
    "    \"iteration\" : 100\n",
    "}"
   ]
  },
  {
   "cell_type": "markdown",
   "id": "ad44a1d8",
   "metadata": {},
   "source": [
    " ### ridge"
   ]
  },
  {
   "cell_type": "code",
   "execution_count": 112,
   "id": "793853c5",
   "metadata": {},
   "outputs": [
    {
     "name": "stdout",
     "output_type": "stream",
     "text": [
      "The Cost function for the iteration 10----->1.2403300380248918e+20 :)\n",
      "The Cost function for the iteration 20----->2.3268151761780157e+35 :)\n",
      "The Cost function for the iteration 30----->4.365022774675187e+50 :)\n",
      "The Cost function for the iteration 40----->8.188627966029447e+65 :)\n",
      "The Cost function for the iteration 50----->1.5361575741384158e+81 :)\n",
      "The Cost function for the iteration 60----->2.8817771455393795e+96 :)\n",
      "The Cost function for the iteration 70----->5.406111753353747e+111 :)\n",
      "The Cost function for the iteration 80----->1.0141673978845883e+127 :)\n",
      "The Cost function for the iteration 90----->1.9025420817354255e+142 :)\n",
      "The Cost function for the iteration 100----->3.5691014918486637e+157 :)\n",
      "The r2_score of the trained model -8.270168844486131e+152\n"
     ]
    }
   ],
   "source": [
    "ridge_reg3 = RidgeRegression(**param1)\n",
    "loss_l_1,e_l_1 =ridge_reg3.train(X_train_l, y_train_l) \n",
    "y_pred_l1 = ridge_reg3.predict(X_train_l)\n",
    "score1 = r2_score(y_train_l, y_pred_l1)\n",
    "print(\"The r2_score of the trained model\", score1)"
   ]
  },
  {
   "cell_type": "markdown",
   "id": "423548f3",
   "metadata": {},
   "source": [
    "#### خطا روی داده های آموزشی"
   ]
  },
  {
   "cell_type": "code",
   "execution_count": 113,
   "id": "32cd3bf6",
   "metadata": {},
   "outputs": [
    {
     "data": {
      "text/plain": [
       "2.396805121452981e+159"
      ]
     },
     "execution_count": 113,
     "metadata": {},
     "output_type": "execute_result"
    }
   ],
   "source": [
    "mean_squared_error(y_pred_l1,y_train_l)"
   ]
  },
  {
   "cell_type": "markdown",
   "id": "e0b001f9",
   "metadata": {},
   "source": [
    "### lasso"
   ]
  },
  {
   "cell_type": "code",
   "execution_count": 114,
   "id": "6b50359d",
   "metadata": {},
   "outputs": [
    {
     "name": "stdout",
     "output_type": "stream",
     "text": [
      "The Cost function for the iteration 10----->1.1690492579269965e+20 :)\n",
      "The Cost function for the iteration 20----->2.0467767293140066e+35 :)\n",
      "The Cost function for the iteration 30----->3.583505956864659e+50 :)\n",
      "The Cost function for the iteration 40----->6.274018440295839e+65 :)\n",
      "The Cost function for the iteration 50----->1.0984579867592192e+81 :)\n",
      "The Cost function for the iteration 60----->1.9231852124078601e+96 :)\n",
      "The Cost function for the iteration 70----->3.3671213699637035e+111 :)\n",
      "The Cost function for the iteration 80----->5.895171326671907e+126 :)\n",
      "The Cost function for the iteration 90----->1.0321292627235816e+142 :)\n",
      "The Cost function for the iteration 100----->1.807056582309258e+157 :)\n",
      "The r2_score of the trained model -4.170682841018014e+152\n"
     ]
    }
   ],
   "source": [
    "lasso_reg3 = LassoRegression(**param1)\n",
    "loss_l_2,e_l_2 =lasso_reg3.train(X_train_l, y_train_l) \n",
    "y_pred_l2 = lasso_reg3.predict(X_train_l)\n",
    "score1 = r2_score(y_train_l, y_pred_l2)\n",
    "print(\"The r2_score of the trained model\", score1)"
   ]
  },
  {
   "cell_type": "code",
   "execution_count": 115,
   "id": "9b9c2157",
   "metadata": {},
   "outputs": [
    {
     "data": {
      "text/plain": [
       "1.2087194567947381e+159"
      ]
     },
     "execution_count": 115,
     "metadata": {},
     "output_type": "execute_result"
    }
   ],
   "source": [
    "mean_squared_error(y_pred_l2,y_train_l)"
   ]
  },
  {
   "cell_type": "markdown",
   "id": "8a0a07ed",
   "metadata": {},
   "source": [
    "### برای این مقدار آلفا آندرفیت داریم و خطا روی داده های آموزشی بسیار زیاد است"
   ]
  },
  {
   "cell_type": "markdown",
   "id": "79a4b6ae",
   "metadata": {},
   "source": [
    "alfa=0.0001"
   ]
  },
  {
   "cell_type": "code",
   "execution_count": 116,
   "id": "a26ed1c1",
   "metadata": {},
   "outputs": [],
   "source": [
    "param2 = {\n",
    "    \"lamda\" : 1,\n",
    "    \"learning_rate\" : 0.0001,\n",
    "    \"iteration\" : 100\n",
    "}"
   ]
  },
  {
   "cell_type": "code",
   "execution_count": 117,
   "id": "0078d8ec",
   "metadata": {},
   "outputs": [
    {
     "name": "stdout",
     "output_type": "stream",
     "text": [
      "The Cost function for the iteration 10----->2246625.339492083 :)\n",
      "The Cost function for the iteration 20----->1769064.8017818176 :)\n",
      "The Cost function for the iteration 30----->1649260.5115692806 :)\n",
      "The Cost function for the iteration 40----->1616934.7546777404 :)\n",
      "The Cost function for the iteration 50----->1606041.4221489064 :)\n",
      "The Cost function for the iteration 60----->1600440.218105706 :)\n",
      "The Cost function for the iteration 70----->1596185.8034219088 :)\n",
      "The Cost function for the iteration 80----->1592312.817623268 :)\n",
      "The Cost function for the iteration 90----->1588584.1175738368 :)\n",
      "The Cost function for the iteration 100----->1584940.5390327966 :)\n",
      "The r2_score of the trained model -0.08873600286571448\n"
     ]
    }
   ],
   "source": [
    "ridge_reg4 = RidgeRegression(**param2)\n",
    "loss_l_3,e_l_3 =ridge_reg4.train(X_train_l, y_train_l) \n",
    "y_pred_l3 = ridge_reg4.predict(X_train_l)\n",
    "score1 = r2_score(y_train_l, y_pred_l3)\n",
    "print(\"The r2_score of the trained model\", score1)"
   ]
  },
  {
   "cell_type": "code",
   "execution_count": 118,
   "id": "20bf03a8",
   "metadata": {},
   "outputs": [
    {
     "data": {
      "text/plain": [
       "3155301.9976352523"
      ]
     },
     "execution_count": 118,
     "metadata": {},
     "output_type": "execute_result"
    }
   ],
   "source": [
    "mean_squared_error(y_pred_l3,y_train_l)"
   ]
  },
  {
   "cell_type": "code",
   "execution_count": 119,
   "id": "50c0c2c9",
   "metadata": {},
   "outputs": [
    {
     "name": "stdout",
     "output_type": "stream",
     "text": [
      "The Cost function for the iteration 10----->2244414.1848296067 :)\n",
      "The Cost function for the iteration 20----->1764292.67132673 :)\n",
      "The Cost function for the iteration 30----->1643334.156349398 :)\n",
      "The Cost function for the iteration 40----->1610563.5160487199 :)\n",
      "The Cost function for the iteration 50----->1599479.843858567 :)\n",
      "The Cost function for the iteration 60----->1593762.2042940701 :)\n",
      "The Cost function for the iteration 70----->1589404.3337754854 :)\n",
      "The Cost function for the iteration 80----->1585422.1298826726 :)\n",
      "The Cost function for the iteration 90----->1581573.1789435588 :)\n",
      "The Cost function for the iteration 100----->1577797.1055844899 :)\n",
      "The r2_score of the trained model -0.08847823793490561\n"
     ]
    }
   ],
   "source": [
    "lasso_reg4 = LassoRegression(**param2)\n",
    "loss_l_4,e_l_2 =lasso_reg4.train(X_train_l, y_train_l) \n",
    "y_pred_l4 = lasso_reg4.predict(X_train_l)\n",
    "score1 = r2_score(y_train_l, y_pred_l4)\n",
    "print(\"The r2_score of the trained model\", score1)"
   ]
  },
  {
   "cell_type": "code",
   "execution_count": 120,
   "id": "87fb7189",
   "metadata": {},
   "outputs": [
    {
     "data": {
      "text/plain": [
       "3154554.960521608"
      ]
     },
     "execution_count": 120,
     "metadata": {},
     "output_type": "execute_result"
    }
   ],
   "source": [
    "mean_squared_error(y_pred_l4,y_train_l)"
   ]
  },
  {
   "cell_type": "code",
   "execution_count": 121,
   "id": "3790f9d6",
   "metadata": {},
   "outputs": [],
   "source": [
    "y_pred_l3_test = ridge_reg4.predict(X_test_l)"
   ]
  },
  {
   "cell_type": "code",
   "execution_count": 122,
   "id": "b9a2a6f0",
   "metadata": {},
   "outputs": [],
   "source": [
    "y_pred_l4_test = lasso_reg4.predict(X_test_l)"
   ]
  },
  {
   "cell_type": "markdown",
   "id": "2f26e20d",
   "metadata": {},
   "source": [
    "### با کم کردن آلفا خطا روی داده های آموزشی نسبت به قبل خیلی کمتر شد"
   ]
  },
  {
   "cell_type": "markdown",
   "id": "4ded849c",
   "metadata": {},
   "source": [
    "### ridge"
   ]
  },
  {
   "cell_type": "code",
   "execution_count": 123,
   "id": "5db6bb09",
   "metadata": {},
   "outputs": [
    {
     "data": {
      "text/plain": [
       "3232245.193314418"
      ]
     },
     "execution_count": 123,
     "metadata": {},
     "output_type": "execute_result"
    }
   ],
   "source": [
    "mean_squared_error(y_pred_l3_test,y_test_l)"
   ]
  },
  {
   "cell_type": "markdown",
   "id": "50e215aa",
   "metadata": {},
   "source": [
    "### lasso"
   ]
  },
  {
   "cell_type": "code",
   "execution_count": 124,
   "id": "98d2f3ca",
   "metadata": {},
   "outputs": [
    {
     "data": {
      "text/plain": [
       "3232099.953027997"
      ]
     },
     "execution_count": 124,
     "metadata": {},
     "output_type": "execute_result"
    }
   ],
   "source": [
    "mean_squared_error(y_pred_l4_test,y_test_l)"
   ]
  },
  {
   "cell_type": "markdown",
   "id": "60a05a4a",
   "metadata": {},
   "source": [
    "#### خطا روی داده ی تست کمی بیشتر است که طبیعی است و در کل در یک حد هستند"
   ]
  },
  {
   "cell_type": "markdown",
   "id": "d8585f9c",
   "metadata": {},
   "source": [
    "## مقادیر مختلف ضریب پنالتی"
   ]
  },
  {
   "cell_type": "code",
   "execution_count": 125,
   "id": "14b9a910",
   "metadata": {},
   "outputs": [],
   "source": [
    "param3 = {\n",
    "    \"lamda\" : 1000,\n",
    "    \"learning_rate\" : 0.0001,\n",
    "    \"iteration\" : 100\n",
    "}"
   ]
  },
  {
   "cell_type": "code",
   "execution_count": 126,
   "id": "25cd9e25",
   "metadata": {},
   "outputs": [
    {
     "name": "stdout",
     "output_type": "stream",
     "text": [
      "The Cost function for the iteration 10----->3286086.0671733194 :)\n",
      "The Cost function for the iteration 20----->3284003.5519985342 :)\n",
      "The Cost function for the iteration 30----->3283999.2938677114 :)\n",
      "The Cost function for the iteration 40----->3283999.2835223083 :)\n",
      "The Cost function for the iteration 50----->3283999.2834793897 :)\n",
      "The Cost function for the iteration 60----->3283999.2834790493 :)\n",
      "The Cost function for the iteration 70----->3283999.283479046 :)\n",
      "The Cost function for the iteration 80----->3283999.283479046 :)\n",
      "The Cost function for the iteration 90----->3283999.283479046 :)\n",
      "The Cost function for the iteration 100----->3283999.283479046 :)\n",
      "The r2_score of the trained model -0.9740957206323435\n"
     ]
    }
   ],
   "source": [
    "ridge_reg5 = RidgeRegression(**param3)\n",
    "loss_l_3,e_l_3 =ridge_reg5.train(X_train_l, y_train_l) \n",
    "y_pred_l5 = ridge_reg5.predict(X_train_l)\n",
    "score1 = r2_score(y_train_l, y_pred_l5)\n",
    "print(\"The r2_score of the trained model\", score1)"
   ]
  },
  {
   "cell_type": "code",
   "execution_count": 127,
   "id": "58cb5188",
   "metadata": {},
   "outputs": [
    {
     "data": {
      "text/plain": [
       "5721192.423543571"
      ]
     },
     "execution_count": 127,
     "metadata": {},
     "output_type": "execute_result"
    }
   ],
   "source": [
    "mean_squared_error(y_pred_l5,y_train_l)"
   ]
  },
  {
   "cell_type": "code",
   "execution_count": 128,
   "id": "c137e1c2",
   "metadata": {},
   "outputs": [],
   "source": [
    "y_pred_l4_test = ridge_reg5.predict(X_test_l)"
   ]
  },
  {
   "cell_type": "code",
   "execution_count": 129,
   "id": "86cd3f2e",
   "metadata": {},
   "outputs": [
    {
     "data": {
      "text/plain": [
       "5626649.652236973"
      ]
     },
     "execution_count": 129,
     "metadata": {},
     "output_type": "execute_result"
    }
   ],
   "source": [
    "mean_squared_error(y_pred_l4_test,y_test_l)"
   ]
  },
  {
   "cell_type": "markdown",
   "id": "7577d631",
   "metadata": {},
   "source": [
    "#### زمانی که ضریب را زیاد میکنیم آندرفیتینگ رخ میدهد و زمانی که ضریب را خیلی کم میکنیم اورفیتینگ رخ میدهد"
   ]
  },
  {
   "cell_type": "markdown",
   "id": "a7b55a35",
   "metadata": {},
   "source": [
    "## قسمت م"
   ]
  },
  {
   "cell_type": "code",
   "execution_count": 139,
   "id": "c849771b",
   "metadata": {},
   "outputs": [],
   "source": [
    "bmdTrain['Outlet_Age_2'] = bmdTrain['Outlet_Age'] * bmdTrain['Outlet_Age']"
   ]
  },
  {
   "cell_type": "code",
   "execution_count": 141,
   "id": "e3964158",
   "metadata": {},
   "outputs": [],
   "source": [
    "bmdTrain['Item_MRP_2'] = bmdTrain['Item_MRP'] * bmdTrain['Item_MRP']"
   ]
  },
  {
   "cell_type": "code",
   "execution_count": 142,
   "id": "288d2c01",
   "metadata": {},
   "outputs": [],
   "source": [
    "X2 = np.asarray(bmdTrain.values.tolist())"
   ]
  },
  {
   "cell_type": "code",
   "execution_count": 143,
   "id": "071ebcd9",
   "metadata": {},
   "outputs": [],
   "source": [
    "X2 = np.concatenate((X2,np.ones((8523,1))), axis = 1)"
   ]
  },
  {
   "cell_type": "code",
   "execution_count": 144,
   "id": "aa302104",
   "metadata": {},
   "outputs": [],
   "source": [
    "X2_norm = (X2 - X2.min()) / (X2.max() - X2.min())"
   ]
  },
  {
   "cell_type": "code",
   "execution_count": 145,
   "id": "82b2e126",
   "metadata": {},
   "outputs": [],
   "source": [
    "X2_train, X2_test, y2_train, y2_test = train_test_split(X2_norm, y_norm, test_size=0.1, random_state=1)"
   ]
  },
  {
   "cell_type": "code",
   "execution_count": 146,
   "id": "051addf3",
   "metadata": {},
   "outputs": [
    {
     "name": "stdout",
     "output_type": "stream",
     "text": [
      "The Cost function for the iteration 10----->0.022194797857068873 :)\n",
      "The Cost function for the iteration 20----->0.02216205596356778 :)\n",
      "The Cost function for the iteration 30----->0.022129399938494436 :)\n",
      "The Cost function for the iteration 40----->0.02209682955572566 :)\n",
      "The Cost function for the iteration 50----->0.02206434458973426 :)\n",
      "The Cost function for the iteration 60----->0.022031944815587422 :)\n",
      "The Cost function for the iteration 70----->0.02199963000894511 :)\n",
      "The Cost function for the iteration 80----->0.02196739994605858 :)\n",
      "The Cost function for the iteration 90----->0.02193525440376876 :)\n",
      "The Cost function for the iteration 100----->0.02190319315950471 :)\n"
     ]
    }
   ],
   "source": [
    "ridge_reg_f = RidgeRegression(**param)\n",
    "loss_l_3,e_l_3 =ridge_reg_f.train(X2_train,y2_train) \n",
    "y_pred_m = ridge_reg_f.predict(X2_train)"
   ]
  },
  {
   "cell_type": "code",
   "execution_count": 147,
   "id": "150c9c5f",
   "metadata": {},
   "outputs": [],
   "source": [
    "y_pred_m2 = ridge_reg_f.predict(X2_test)"
   ]
  },
  {
   "cell_type": "code",
   "execution_count": 149,
   "id": "ac416915",
   "metadata": {},
   "outputs": [
    {
     "data": {
      "text/plain": [
       "0.0437993345976014"
      ]
     },
     "execution_count": 149,
     "metadata": {},
     "output_type": "execute_result"
    }
   ],
   "source": [
    "mean_squared_error(y_pred_m,y2_train)"
   ]
  },
  {
   "cell_type": "code",
   "execution_count": 150,
   "id": "50a9709c",
   "metadata": {},
   "outputs": [
    {
     "data": {
      "text/plain": [
       "0.041003748908444236"
      ]
     },
     "execution_count": 150,
     "metadata": {},
     "output_type": "execute_result"
    }
   ],
   "source": [
    "mean_squared_error(y_pred_m2,y2_test)"
   ]
  }
 ],
 "metadata": {
  "kernelspec": {
   "display_name": "Python 3 (ipykernel)",
   "language": "python",
   "name": "python3"
  },
  "language_info": {
   "codemirror_mode": {
    "name": "ipython",
    "version": 3
   },
   "file_extension": ".py",
   "mimetype": "text/x-python",
   "name": "python",
   "nbconvert_exporter": "python",
   "pygments_lexer": "ipython3",
   "version": "3.9.7"
  }
 },
 "nbformat": 4,
 "nbformat_minor": 5
}
